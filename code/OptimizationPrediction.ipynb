{
 "cells": [
  {
   "cell_type": "code",
   "execution_count": null,
   "metadata": {
    "colab": {
     "base_uri": "https://localhost:8080/",
     "height": 34
    },
    "id": "IJbKdhTiDJmK",
    "outputId": "e96507c2-be27-4a37-a420-ef89a112e7e2"
   },
   "outputs": [
    {
     "name": "stdout",
     "output_type": "stream",
     "text": [
      "Libraries imported.\n"
     ]
    }
   ],
   "source": [
    "#IMPORT LIBRARIES AND INTRODUCE USER-DEFINED FUNCTIONS\n",
    "\n",
    "import numpy as np\n",
    "import pandas as pd\n",
    "import random\n",
    "import ast\n",
    "import csv\n",
    "from sklearn import svm\n",
    "\n",
    "from sklearn.model_selection import train_test_split\n",
    "from sklearn.feature_extraction.text import *\n",
    "from sklearn.naive_bayes import *\n",
    "from sklearn.metrics import confusion_matrix, classification_report\n",
    "from ast import literal_eval\n",
    "from sklearn.model_selection import train_test_split, cross_val_score, ShuffleSplit, GridSearchCV\n",
    "from sklearn import svm\n",
    "from sklearn.naive_bayes import GaussianNB\n",
    "from sklearn.linear_model import LogisticRegression\n",
    "from sklearn.metrics import classification_report, confusion_matrix\n",
    "from sklearn.utils.multiclass import unique_labels\n",
    "import matplotlib.pyplot as plt\n",
    "\n",
    "\n",
    "def plot_confusion_matrix(y_true, y_pred, classes,\n",
    "                          normalize=False,\n",
    "                          title=None,\n",
    "                          cmap=plt.cm.Blues):\n",
    "    \"\"\"\n",
    "    This function prints and plots the confusion matrix.\n",
    "    Normalization can be applied by setting `normalize=True`.\n",
    "    \"\"\"\n",
    "    if not title:\n",
    "        if normalize:\n",
    "            title = 'Normalized confusion matrix'\n",
    "        else:\n",
    "            title = 'Confusion matrix, without normalization'\n",
    "\n",
    "    # Compute confusion matrix\n",
    "    cm = confusion_matrix(y_true, y_pred)\n",
    "    # Only use the labels that appear in the data\n",
    "    classes = classes[unique_labels(y_true, y_pred)]\n",
    "    if normalize:\n",
    "        cm = cm.astype('float') / cm.sum(axis=1)[:, np.newaxis]\n",
    "        #print(\"Normalized confusion matrix\")\n",
    "    else:\n",
    "        pass\n",
    "        #print('Confusion matrix, without normalization')\n",
    "\n",
    "    #print(cm)\n",
    "\n",
    "    fig, ax = plt.subplots()\n",
    "    im = ax.imshow(cm, interpolation='nearest', cmap=cmap)\n",
    "    ax.figure.colorbar(im, ax=ax)\n",
    "    # We want to show all ticks...\n",
    "    ax.set(xticks=np.arange(cm.shape[1]),\n",
    "           yticks=np.arange(cm.shape[0]),\n",
    "           # ... and label them with the respective list entries\n",
    "           xticklabels=classes, yticklabels=classes,\n",
    "           title=title,\n",
    "           ylabel='True label',\n",
    "           xlabel='Predicted label')\n",
    "\n",
    "    # Rotate the tick labels and set their alignment.\n",
    "    plt.setp(ax.get_xticklabels(), rotation=45, ha=\"right\",\n",
    "             rotation_mode=\"anchor\")\n",
    "\n",
    "    # Loop over data dimensions and create text annotations.\n",
    "    fmt = '.2f' if normalize else 'd'\n",
    "    thresh = cm.max() / 2.\n",
    "    for i in range(cm.shape[0]):\n",
    "        for j in range(cm.shape[1]):\n",
    "            ax.text(j, i, format(cm[i, j], fmt),\n",
    "                    ha=\"center\", va=\"center\",\n",
    "                    color=\"white\" if cm[i, j] > thresh else \"black\")\n",
    "    fig.tight_layout()\n",
    "    return ax\n",
    "  \n",
    "\n",
    "print('Libraries imported.')"
   ]
  },
  {
   "cell_type": "code",
   "execution_count": null,
   "metadata": {
    "colab": {
     "base_uri": "https://localhost:8080/",
     "height": 34
    },
    "id": "rJGYB6O3DOl4",
    "outputId": "db92cbdc-10ef-4aa4-9a87-fee8410a328b"
   },
   "outputs": [
    {
     "name": "stdout",
     "output_type": "stream",
     "text": [
      "Mounted at /content/drive\n"
     ]
    }
   ],
   "source": [
    "#MOUNT DRIVE\n",
    "\n",
    "from google.colab import drive\n",
    "drive.mount('/content/drive', force_remount=True)"
   ]
  },
  {
   "cell_type": "code",
   "execution_count": null,
   "metadata": {
    "colab": {
     "base_uri": "https://localhost:8080/",
     "height": 34
    },
    "id": "H5A3uUQWDQ1f",
    "outputId": "8b7c9e18-671b-43e3-f2a8-b0136691562c"
   },
   "outputs": [
    {
     "name": "stdout",
     "output_type": "stream",
     "text": [
      "File imported\n"
     ]
    }
   ],
   "source": [
    "#IMPORT DATASET\n",
    "\n",
    "filepath1 = \"/content/drive/My Drive/train_dataset.jsonl\"\n",
    "db=pd.read_json(filepath1, lines=True)\n",
    "print('File imported')\n",
    "#db.info"
   ]
  },
  {
   "cell_type": "code",
   "execution_count": null,
   "metadata": {
    "id": "WPu2wgH-YttI"
   },
   "outputs": [],
   "source": [
    "#IMPORT TESTSET\n",
    "filepath2 = \"/content/drive/My Drive/test_dataset_blind.jsonl\"\n",
    "bs=pd.read_json(filepath2, lines=True)\n",
    "print('File imported')\n",
    "bs.info"
   ]
  },
  {
   "cell_type": "code",
   "execution_count": null,
   "metadata": {
    "colab": {
     "base_uri": "https://localhost:8080/",
     "height": 89
    },
    "id": "xrt5ItnSc9_n",
    "outputId": "7fc2bf7e-8322-4205-d14b-1dcbb3b8df7a"
   },
   "outputs": [
    {
     "name": "stdout",
     "output_type": "stream",
     "text": [
      "Blind_Instructions list created\n",
      "['mov edx 0', 'mov esi 0', 'mov edi 1', 'xor eax eax', 'call 0x8000e99', 'nop dword [rax]', 'mov edi 0', 'call 0x8000eaa', 'nop word [rax + rax]', 'test dl dl', 'jne 0x8001340', 'mov rdx rdi', 'mov r8 rbp', 'mov ecx 0', 'mov rsi r12', 'mov edi 0', 'xor eax eax', 'call loc.08000ed2', 'add rsp 0x40', 'pop rbx', 'pop rbp', 'pop r12', 'pop r13', 'pop r14', 'ret', 'mov rdx rdi', 'xor eax eax', 'mov r9 rbp', 'mov rsi r12', 'mov edi 0', 'call fcn.0800100a', 'cmp dword [rbx + 0x18] 0xffffffffffffffff', 'je 0x800101d', 'mov rdi qword [rbx + 0x10]', 'test rdi rdi', 'jne 0x8001258', 'mov eax dword [rbx + 0x1c]', 'test eax eax', 'je loc.08000ed2', 'cmp eax 2', 'jbe 0x80011d0', 'mov r9d 0', 'mov r8d 0', 'mov ecx 0x1e8', 'jmp 0x8000e83', 'mov r8d eax', 'mov ecx 0', 'jmp 0x8000ff5', 'mov rcx qword [rbx + 0x20]', 'mov edx 0', 'mov r8 rbp', 'mov rsi r12', 'mov edi 0', 'neg rcx', 'cmp eax 2', 'mov eax 0', 'cmove rdx rax', 'xor eax eax', 'call 0x80011fa', 'jmp loc.08000ed2', 'lea rsi [arg_28h]', 'call 0x8001262', 'test al al', 'mov rdi qword [rbx + 0x10]', 'jne 0x8001415', 'lea rsi [arg_20h]', 'call 0x8001278', 'mov qword [arg_30h] 0', 'mov r13d eax', 'mov qword [arg_38h] 0', 'mov rdi qword [rbx + 0x10]', 'lea rsi [arg_18h]', 'call 0x800129b', 'mov ecx r13d', 'or cl al', 'je 0x800101d', 'test r13b r13b', 'mov r8d 0', 'lea r14 [arg_30h]', 'jne 0x80014bb', 'test al al', 'mov ecx 0', 'cmovne rcx qword [arg_18h]', 'mov edx dword [rbx + 0x18]', 'sub rsp 8', 'mov r9 r14', 'push rbp', 'mov rsi r12', 'mov edi 0', 'xor eax eax', 'call 0x80012e1', 'pop rax', 'pop rdx', 'jmp 0x800101d', 'mov rdx rdi', 'mov rcx rbp', 'mov rsi r12', 'mov edi 0', 'xor eax eax', 'call 0x8001355', 'jmp loc.08000ed2', 'sub rdi qword [arg_28h]', 'lea rsi [arg_ch]', 'call 0x8001424', 'mov rdi qword [rbx + 0x10]', 'lea rsi [arg_20h]', 'mov r14d eax', 'call 0x8001435', 'test al al', 'mov r13d eax', 'mov qword [arg_30h] 0', 'mov qword [arg_38h] 0', 'je 0x800128d', 'test r14b r14b', 'je 0x800128d', 'mov edx dword [arg_ch]', 'lea r14 [arg_30h]', 'mov esi 0', 'xor eax eax', 'mov rdi r14', 'call 0x8001473', 'mov rdi qword [rbx + 0x10]', 'lea rsi [arg_18h]', 'call 0x8001481', 'or r13b al', 'je 0x800101d', 'mov r8 qword [arg_20h]', 'jmp 0x80012ba', 'lea r14 [arg_30h]', 'jmp 0x800148a']\n",
      "3000\n"
     ]
    }
   ],
   "source": [
    "#GENERATE LIST OF BLIND DATA\n",
    "\n",
    "blind_instructions = list ()\n",
    "for i in range (0,3000):\n",
    "    blind_instruction = bs.iloc[i,0]\n",
    "    blind_instructions.insert(i, blind_instruction)\n",
    "\n",
    "print('Blind_Instructions list created') \n",
    "print(blind_instructions[1]) \n",
    "print(len(blind_instructions))"
   ]
  },
  {
   "cell_type": "code",
   "execution_count": null,
   "metadata": {
    "colab": {
     "base_uri": "https://localhost:8080/",
     "height": 84
    },
    "id": "MVeb9GXLDStf",
    "outputId": "87a346c1-0d37-4cc3-9600-5bb107e77d5d"
   },
   "outputs": [
    {
     "name": "stdout",
     "output_type": "stream",
     "text": [
      "['xor edx edx', 'cmp rdi rsi', 'mov eax 0xffffffff', 'seta dl', 'cmovae eax edx', 'ret']\n",
      "H\n",
      "Instructions and optimization lists created\n",
      "3000\n"
     ]
    }
   ],
   "source": [
    "#GENERATE LISTS OF SAMPLES AND LABELS\n",
    "\n",
    "instructions = list()\n",
    "optimization = list()\n",
    "for i in range (0,3000):\n",
    "    instruction= db.iloc[i,0]\n",
    "    opt= db.iloc[i,1]\n",
    "    instructions.insert(i, instruction)\n",
    "    optimization.insert(i, opt)\n",
    "\n",
    "print(instructions[1])\n",
    "print(optimization[1])\n",
    "print('Instructions and optimization lists created')\n",
    "print(len(instructions))"
   ]
  },
  {
   "cell_type": "code",
   "execution_count": null,
   "metadata": {
    "colab": {
     "base_uri": "https://localhost:8080/",
     "height": 52
    },
    "id": "aEcmmwNz42Cy",
    "outputId": "1ff6f172-0730-4c1d-b39f-f7dc4a0031a9"
   },
   "outputs": [
    {
     "name": "stdout",
     "output_type": "stream",
     "text": [
      "3000\n",
      "3000\n"
     ]
    }
   ],
   "source": [
    "#BALANCE THE DATASET\n",
    "\n",
    "instructions = list()\n",
    "optimization = list()\n",
    "for i in range (0,30000):\n",
    "    if db.opt[i]=='H':\n",
    "    instructions.insert(i, db.iloc[i,0])\n",
    "    optimization.insert(i, db.iloc[i,1])\n",
    "    if(len(instructions)>1500):\n",
    "        break\n",
    "for i in range (0,30000):\n",
    "    if db.opt[i]=='L':\n",
    "        instructions.insert(i+1500, db.iloc[i,0])\n",
    "        optimization.insert(i+1500, db.iloc[i,1])\n",
    "        if(len(instructions)>=3000):\n",
    "            break\n",
    "\n",
    "print(len(instructions))\n",
    "print(len(optimization))"
   ]
  },
  {
   "cell_type": "code",
   "execution_count": null,
   "metadata": {
    "colab": {
     "base_uri": "https://localhost:8080/",
     "height": 50
    },
    "id": "yHvOae4MV73S",
    "outputId": "83120520-f720-48e6-b804-c7c32bf369d5"
   },
   "outputs": [
    {
     "name": "stdout",
     "output_type": "stream",
     "text": [
      "['xor', 'edx', 'edx', 'cmp', 'rdi', 'rsi', 'mov', 'eax', '0xffffffff', 'seta', 'dl', 'cmovae', 'eax', 'edx', 'ret']\n",
      "['xor edx edx', 'cmp rdi rsi', 'mov eax 0xffffffff', 'seta dl', 'cmovae eax edx', 'ret']\n"
     ]
    }
   ],
   "source": [
    "#GENERATE LIST OF SPLIT INSTRUCTIONS\n",
    "\n",
    "instructions_split=[]\n",
    "for i in range (0, len(instructions)):\n",
    "    instruction_split=list()\n",
    "    j=0\n",
    "    for string in instructions[i]:\n",
    "    #print(string)\n",
    "    #print(len(string))\n",
    "        for k in range (0, len(string.split())):\n",
    "            tmp=string\n",
    "            tmp_split=tmp.split()\n",
    "            instruction_split.insert(j,tmp_split[k])\n",
    "            j+=1\n",
    "    instructions_split.append(instruction_split)\n",
    "    \n",
    "print(instructions_split[0])\n",
    "print(instructions[0])"
   ]
  },
  {
   "cell_type": "code",
   "execution_count": null,
   "metadata": {
    "colab": {
     "base_uri": "https://localhost:8080/",
     "height": 89
    },
    "id": "9BbiW46Phtwz",
    "outputId": "b8702807-2ef9-4ae7-b29a-e36e403454f1"
   },
   "outputs": [
    {
     "name": "stdout",
     "output_type": "stream",
     "text": [
      "['xor', 'cmp', 'mov', 'seta', 'cmovae', 'ret']\n",
      "['push', 'mov', 'push', 'mov', 'sub', 'test', 'mov', 'jne', 'test', 'jne', 'test', 'je', 'mov', 'call', 'cmp', 'sbb', 'not', 'and', 'add', 'pop', 'pop', 'ret', 'test', 'mov', 'jne', 'lea', 'mov', 'mov', 'call', 'test', 'mov', 'mov', 'mov', 'jne', 'mov', 'jmp', 'xor', 'jmp']\n",
      "['movapd', 'mov', 'mov', 'mov', 'mov', 'call', 'movsd', 'movsxd', 'movsd', 'mov', 'mov', 'divsd', 'movsd', 'movsd', 'divsd', 'movsd', 'movsd', 'divsd', 'movsd', 'movsd', 'divsd', 'movsd', 'movsd', 'divsd', 'divsd', 'movsd', 'movsd', 'call', 'test', 'mov', 'je', 'test', 'jne', 'mov', 'cmp', 'je', 'jle', 'cmp', 'je', 'cmp', 'jne', 'mov', 'call', 'mov', 'xor', 'add', 'pop', 'pop', 'pop', 'pop', 'ret', 'movsd', 'movsd', 'movapd', 'movsd', 'mulsd', 'addsd', 'movsd', 'subsd', 'movsd', 'movsd', 'mulsd', 'movsd', 'xorpd', 'movsd', 'movsd', 'movapd', 'movsd', 'movsd', 'jmp', 'cmp', 'jne', 'mov', 'jmp', 'movsxd', 'xor', 'mov', 'shl', 'call', 'mov', 'cmp', 'jne', 'mov', 'jmp', 'mov', 'jmp', 'mov', 'mov', 'mov', 'mov', 'xor', 'xor', 'xor', 'call', 'call', 'nop', 'mov', 'jmp', 'mov', 'jmp']\n"
     ]
    }
   ],
   "source": [
    "#GENERATE LIST OF MNEMONICS\n",
    "\n",
    "mnemonics=[]\n",
    "for i in range (0, len(instructions)):\n",
    "    mnemonic=list()\n",
    "    j=0\n",
    "    for string in instructions[i]:\n",
    "        tmp=string\n",
    "        tmp_split=tmp.split()\n",
    "        mnemonic.insert(j,tmp_split[0])\n",
    "        j+=1\n",
    "    mnemonics.append(mnemonic)  \n",
    "    \n",
    "print(mnemonics[0])\n",
    "print(mnemonics[1])\n",
    "print(mnemonics[2])"
   ]
  },
  {
   "cell_type": "code",
   "execution_count": null,
   "metadata": {
    "colab": {
     "base_uri": "https://localhost:8080/",
     "height": 34
    },
    "id": "BGnjrwO1hy35",
    "outputId": "aef5ce9a-7d1c-40c2-f105-19f13a96e41f"
   },
   "outputs": [
    {
     "name": "stdout",
     "output_type": "stream",
     "text": [
      "['xor', 'cmp', 'mov', 'seta', 'cmovae', 'ret']\n"
     ]
    }
   ],
   "source": [
    "#GENERATE CUT LIST OF MNEMONICS\n",
    "\n",
    "mnemonics=[]\n",
    "for i in range (0, len(instructions)):\n",
    "    mnemonic=list()\n",
    "    j=0\n",
    "    k=10\n",
    "    if len(instructions[i])>20:\n",
    "        for string1 in instructions[i]:\n",
    "            tmp1=string1\n",
    "            tmp_split1=tmp1.split()\n",
    "            mnemonic.insert(j,tmp_split1[0])\n",
    "            j+=1\n",
    "            if j>9:\n",
    "                break\n",
    "        for string2 in reversed(instructions[i]):\n",
    "            tmp2=string2\n",
    "            tmp_split2=tmp2.split()\n",
    "            mnemonic.insert(k,tmp_split2[0])\n",
    "            k+=1\n",
    "            if k>19:\n",
    "                break\n",
    "    elif len(instructions[i])<=20:\n",
    "        for string in instructions[i]:  \n",
    "            tmp=string\n",
    "            tmp_split=tmp.split()\n",
    "            mnemonic.insert(j,tmp_split[0])\n",
    "            j+=1\n",
    "    mnemonics.append(mnemonic)  \n",
    "    \n",
    "print(mnemonics[0])"
   ]
  },
  {
   "cell_type": "code",
   "execution_count": null,
   "metadata": {
    "colab": {
     "base_uri": "https://localhost:8080/",
     "height": 72
    },
    "id": "uqQPqan1DpjP",
    "outputId": "6b340ea4-8d19-48d9-8414-e05c51ea65ff"
   },
   "outputs": [
    {
     "name": "stdout",
     "output_type": "stream",
     "text": [
      "['push r15', 'push r14', 'push r13', 'push r12', 'push rbp', 'push rbx', 'sub rsp 8', 'mov r13 rdi', 'mov qword [rdi + 0x20] 0', 'mov byte [rdi + 0x30] 0', 'mov byte [rdi + 0x32] 0', 'mov byte [rdi + 0x31] 0', 'mov rax qword [rdi]', 'mov rbp qword [rax + 8]', 'test rbp rbp', 'je 0x80011e0', 'mov r12d 0', 'jmp 0x80010bc', 'mov r12 rbx', 'cmp dword [rbp] 4', 'ja 0x800118e', 'mov eax dword [rbp]', 'jmp qword [rax*8]', 'call 0x8001193', 'mov ebx 1', 'add rbx r12', 'cmp rbx 0xffffffffffffffff', 'je 0x80011a6', 'cmp r12 rbx', 'jbe 0x80011d1', 'mov edx 5', 'mov esi 0', 'mov edi 0', 'call 0x80011ba', 'mov rdx rax', 'mov esi 0', 'mov edi 1', 'mov eax 0', 'call 0x80011d1', 'mov rbp qword [arg_8h]', 'test rbp rbp', 'jne 0x80010b9', 'jmp 0x80011e5', 'mov ebx 0', 'mov qword [r13 + 0x18] rbx', 'add rsp 8', 'pop rbx', 'pop rbp', 'pop r12', 'pop r13', 'pop r14', 'pop r15', 'ret']\n",
      "876\n"
     ]
    }
   ],
   "source": [
    "#CONVERT LISTS INTO LISTS OF STRINGS AND ARRAYS\n",
    "\n",
    "ins = list()\n",
    "mnem = list()\n",
    "blind_ins = list()\n",
    "for i in range (0,len(instructions)):\n",
    "    ins.insert(i, str(instructions[i]))\n",
    "    mnem.insert(i, str(mnemonics[i]))\n",
    "    blind_ins.insert(i, str(blind_instructions[i]))\n",
    "\n",
    "opt_array = np.asarray(optimization)\n",
    "\n",
    "#print('Instructions lists converted into strings')\n",
    "#print('Optimization list converted into array')\n",
    "#print(ins[1])\n",
    "print(blind_ins[0])\n",
    "print(len(blind_ins[0]))\n",
    "#print(len(blind_ins))"
   ]
  },
  {
   "cell_type": "code",
   "execution_count": null,
   "metadata": {
    "id": "Q4bQ5QmpD5V_"
   },
   "outputs": [],
   "source": [
    "#FEATURE EXTRACTION\n",
    "\n",
    "#vectorizer = HashingVectorizer() # multivariate-Bernoulli\n",
    "#vectorizer = CountVectorizer(ngram_range=(2,7), binary=True) # multinomial\n",
    "vectorizer = TfidfVectorizer(ngram_range=(2,7), binary=True)\n",
    "X_all = vectorizer.fit_transform(mnem)\n",
    "y_all= opt_array\n",
    "print(X_all.shape)\n",
    "print(y_all.shape)\n",
    "print(X_all[1])\n",
    "print(y_all[1])\n",
    "print(mnem[1])"
   ]
  },
  {
   "cell_type": "code",
   "execution_count": null,
   "metadata": {
    "colab": {
     "base_uri": "https://localhost:8080/",
     "height": 52
    },
    "id": "WefMcHNREEc4",
    "outputId": "49e47b16-5e08-49fa-9f86-2467a3e3ab0d"
   },
   "outputs": [
    {
     "name": "stdout",
     "output_type": "stream",
     "text": [
      "Size of Train set: 2400 - Size of Test set: 600\n",
      "['H' 'L' 'L' ... 'L' 'L' 'L']\n"
     ]
    }
   ],
   "source": [
    "#TRAINING\n",
    "\n",
    "X_train, X_test, y_train, y_test = train_test_split(X_all, y_all, \n",
    "          test_size=0.2, random_state=15)\n",
    "\n",
    "print(\"Size of Train set: %d - Size of Test set: %d\" %(X_train.shape[0],X_test.shape[0]))\n",
    "#print('%d %s %s' %(id,str(y_train[id]),str(X_train[id])))\n",
    "print(y_train)"
   ]
  },
  {
   "cell_type": "code",
   "execution_count": null,
   "metadata": {
    "id": "JATnAXUfNtlF"
   },
   "outputs": [],
   "source": [
    "#SVM\n",
    "\n",
    "model = svm.SVC(kernel='linear', C=1)\n",
    "print('SVM Model created')\n",
    "model.fit(X_train, y_train)"
   ]
  },
  {
   "cell_type": "code",
   "execution_count": null,
   "metadata": {
    "id": "JCHe7X3tEQcn"
   },
   "outputs": [],
   "source": [
    "#BERNOULLI \n",
    "\n",
    "model = BernoulliNB().fit(X_train, y_train)\n",
    "print('Bernoulli Model created')"
   ]
  },
  {
   "cell_type": "code",
   "execution_count": null,
   "metadata": {
    "colab": {
     "base_uri": "https://localhost:8080/",
     "height": 34
    },
    "id": "SqwvbYQkEWjC",
    "outputId": "78b297a2-76e6-404c-e3b3-eb09ceadaa3f"
   },
   "outputs": [
    {
     "name": "stdout",
     "output_type": "stream",
     "text": [
      "Multinomial Model created\n"
     ]
    }
   ],
   "source": [
    "#MULTINOMIAL\n",
    "\n",
    "model = MultinomialNB().fit(X_train, y_train)\n",
    "print('Multinomial Model created')"
   ]
  },
  {
   "cell_type": "code",
   "execution_count": null,
   "metadata": {
    "colab": {
     "base_uri": "https://localhost:8080/",
     "height": 328
    },
    "id": "o-QiEGuVEiEf",
    "outputId": "8092a5aa-90d5-4a8d-eb8b-26b4ed5c8a0a"
   },
   "outputs": [
    {
     "name": "stdout",
     "output_type": "stream",
     "text": [
      "Accuracy: 0.950\n",
      "\n",
      "Confusion Matrix: \n",
      "\n",
      "[[276  25]\n",
      " [  5 294]]\n",
      "\n",
      "\t\t\tCalssification Report: \n",
      "\n",
      "              precision    recall  f1-score   support\n",
      "\n",
      "           H       0.98      0.92      0.95       301\n",
      "           L       0.92      0.98      0.95       299\n",
      "\n",
      "    accuracy                           0.95       600\n",
      "   macro avg       0.95      0.95      0.95       600\n",
      "weighted avg       0.95      0.95      0.95       600\n",
      "\n"
     ]
    }
   ],
   "source": [
    "#ACCURACY, PRECISION, RECALL AND CONFUSION MATRIX\n",
    "\n",
    "acc = model.score(X_test, y_test)\n",
    "print(\"Accuracy: %.3f\" %acc)\n",
    "y_pred = model.predict(X_test)\n",
    "print(\"\\nConfusion Matrix: \\n\")\n",
    "print(\"%s\" %confusion_matrix(y_test, y_pred))\n",
    "print(\"\\n\\t\\t\\tCalssification Report: \\n\")\n",
    "print(classification_report(y_test, y_pred))"
   ]
  },
  {
   "cell_type": "code",
   "execution_count": null,
   "metadata": {
    "id": "WmawbOnRZ-yn"
   },
   "outputs": [],
   "source": [
    "#PREDICTIONS\n",
    "\n",
    "#create a list of predictions\n",
    "\n",
    "predictions = list()\n",
    "X_all_blind = vectorizer.transform(blind_ins)\n",
    "h=0\n",
    "l=0\n",
    "for i in range (0, len(blind_instructions)):\n",
    "    ynew = model.predict(X_all_blind[i])\n",
    "    predictions.insert(i, ynew)\n",
    "    if predictions[i] == 'H':\n",
    "        h+=1\n",
    "    elif predictions[i] == 'L':\n",
    "        l+=1   \n",
    "\n",
    "print(predictions)\n",
    "print(len(predictions))\n",
    "print(h)\n",
    "print(l)\n",
    "\n",
    "#Write those predictions on a csv file\n",
    "\n",
    "with open('predictions.csv', 'w') as csvFile:\n",
    "    writer = csv.writer(csvFile)\n",
    "    writer.writerows(predictions)\n",
    "csvFile.close()"
   ]
  }
 ],
 "metadata": {
  "colab": {
   "collapsed_sections": [],
   "name": " Problem1",
   "provenance": []
  },
  "kernelspec": {
   "display_name": "Python 3 (ipykernel)",
   "language": "python",
   "name": "python3"
  },
  "language_info": {
   "codemirror_mode": {
    "name": "ipython",
    "version": 3
   },
   "file_extension": ".py",
   "mimetype": "text/x-python",
   "name": "python",
   "nbconvert_exporter": "python",
   "pygments_lexer": "ipython3",
   "version": "3.9.7"
  }
 },
 "nbformat": 4,
 "nbformat_minor": 4
}
