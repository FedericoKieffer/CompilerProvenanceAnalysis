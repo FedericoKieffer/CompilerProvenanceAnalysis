{
 "cells": [
  {
   "cell_type": "code",
   "execution_count": null,
   "metadata": {
    "colab": {
     "base_uri": "https://localhost:8080/",
     "height": 34
    },
    "id": "sp9PtikUQMCC",
    "outputId": "661dc13a-e8f8-42dd-9f34-6d4960ac64a6"
   },
   "outputs": [
    {
     "name": "stdout",
     "output_type": "stream",
     "text": [
      "Libraries imported.\n"
     ]
    }
   ],
   "source": [
    "#IMPORT LIBRARIES AND INTRODUCE USER-DEFINED FUNCTIONS\n",
    "\n",
    "import numpy as np\n",
    "import pandas as pd\n",
    "import random\n",
    "import ast\n",
    "import csv\n",
    "from sklearn import svm\n",
    "\n",
    "from sklearn.model_selection import train_test_split\n",
    "from sklearn.feature_extraction.text import *\n",
    "from sklearn.naive_bayes import *\n",
    "from sklearn.metrics import confusion_matrix, classification_report\n",
    "from ast import literal_eval\n",
    "import matplotlib.pyplot as plt\n",
    "\n",
    "\n",
    "def plot_confusion_matrix(y_true, y_pred, classes,\n",
    "                          normalize=False,\n",
    "                          title=None,\n",
    "                          cmap=plt.cm.Blues):\n",
    "    \"\"\"\n",
    "    This function prints and plots the confusion matrix.\n",
    "    Normalization can be applied by setting `normalize=True`.\n",
    "    \"\"\"\n",
    "    if not title:\n",
    "        if normalize:\n",
    "            title = 'Normalized confusion matrix'\n",
    "        else:\n",
    "            title = 'Confusion matrix, without normalization'\n",
    "\n",
    "    # Compute confusion matrix\n",
    "    cm = confusion_matrix(y_true, y_pred)\n",
    "    # Only use the labels that appear in the data\n",
    "    classes = classes[unique_labels(y_true, y_pred)]\n",
    "    if normalize:\n",
    "        cm = cm.astype('float') / cm.sum(axis=1)[:, np.newaxis]\n",
    "        #print(\"Normalized confusion matrix\")\n",
    "    else:\n",
    "        pass\n",
    "        #print('Confusion matrix, without normalization')\n",
    "\n",
    "    #print(cm)\n",
    "\n",
    "    fig, ax = plt.subplots()\n",
    "    im = ax.imshow(cm, interpolation='nearest', cmap=cmap)\n",
    "    ax.figure.colorbar(im, ax=ax)\n",
    "    # We want to show all ticks...\n",
    "    ax.set(xticks=np.arange(cm.shape[1]),\n",
    "           yticks=np.arange(cm.shape[0]),\n",
    "           # ... and label them with the respective list entries\n",
    "           xticklabels=classes, yticklabels=classes,\n",
    "           title=title,\n",
    "           ylabel='True label',\n",
    "           xlabel='Predicted label')\n",
    "\n",
    "    # Rotate the tick labels and set their alignment.\n",
    "    plt.setp(ax.get_xticklabels(), rotation=45, ha=\"right\",\n",
    "             rotation_mode=\"anchor\")\n",
    "\n",
    "    # Loop over data dimensions and create text annotations.\n",
    "    fmt = '.2f' if normalize else 'd'\n",
    "    thresh = cm.max() / 2.\n",
    "    for i in range(cm.shape[0]):\n",
    "        for j in range(cm.shape[1]):\n",
    "            ax.text(j, i, format(cm[i, j], fmt),\n",
    "                    ha=\"center\", va=\"center\",\n",
    "                    color=\"white\" if cm[i, j] > thresh else \"black\")\n",
    "    fig.tight_layout()\n",
    "    return ax\n",
    "  \n",
    "\n",
    "print('Libraries imported.')"
   ]
  },
  {
   "cell_type": "code",
   "execution_count": null,
   "metadata": {
    "colab": {
     "base_uri": "https://localhost:8080/",
     "height": 34
    },
    "id": "upZevKVGQZJJ",
    "outputId": "18cec2a2-2cbd-48dc-c234-0067d111e0cb"
   },
   "outputs": [
    {
     "name": "stdout",
     "output_type": "stream",
     "text": [
      "Mounted at /content/drive\n"
     ]
    }
   ],
   "source": [
    "#MOUNT DRIVE\n",
    "\n",
    "from google.colab import drive\n",
    "drive.mount('/content/drive', force_remount=True)"
   ]
  },
  {
   "cell_type": "code",
   "execution_count": null,
   "metadata": {
    "colab": {
     "base_uri": "https://localhost:8080/",
     "height": 34
    },
    "id": "yT_FYYiSQeJ8",
    "outputId": "1b693e10-0ccf-46dc-db22-696475dfba75"
   },
   "outputs": [
    {
     "name": "stdout",
     "output_type": "stream",
     "text": [
      "File imported\n"
     ]
    }
   ],
   "source": [
    "#IMPORT DATASET\n",
    "\n",
    "filepath = \"/content/drive/My Drive/train_dataset.jsonl\"\n",
    "db=pd.read_json(filepath, lines=True)\n",
    "print('File imported')\n",
    "#db.info"
   ]
  },
  {
   "cell_type": "code",
   "execution_count": null,
   "metadata": {
    "colab": {
     "base_uri": "https://localhost:8080/",
     "height": 34
    },
    "id": "NhI1agcUAYlk",
    "outputId": "c1b002b0-dca2-4d8f-f681-1d3b7a8dd30d"
   },
   "outputs": [
    {
     "name": "stdout",
     "output_type": "stream",
     "text": [
      "File imported\n"
     ]
    }
   ],
   "source": [
    "#IMPORT TESTSET\n",
    "filepath2 = \"/content/drive/My Drive/test_dataset_blind.jsonl\"\n",
    "bs=pd.read_json(filepath2, lines=True)\n",
    "print('File imported')\n",
    "#bs.info"
   ]
  },
  {
   "cell_type": "code",
   "execution_count": null,
   "metadata": {
    "id": "WzHLt0cbAfIE"
   },
   "outputs": [],
   "source": [
    "#GENERATE LIST OF BLIND DATA\n",
    "\n",
    "blind_instructions = list ()\n",
    "for i in range (0,3000):\n",
    "    blind_instruction = bs.iloc[i,0]\n",
    "    blind_instructions.insert(i, blind_instruction)"
   ]
  },
  {
   "cell_type": "code",
   "execution_count": null,
   "metadata": {
    "colab": {
     "base_uri": "https://localhost:8080/",
     "height": 84
    },
    "id": "gujoVXvBQgxo",
    "outputId": "6499b0c4-58ed-4c48-9575-d3545ec9ae18"
   },
   "outputs": [
    {
     "name": "stdout",
     "output_type": "stream",
     "text": [
      "['xor edx edx', 'cmp rdi rsi', 'mov eax 0xffffffff', 'seta dl', 'cmovae eax edx', 'ret']\n",
      "gcc\n",
      "Instructions and compilers lists created\n",
      "30000\n"
     ]
    }
   ],
   "source": [
    "#GENERATE LISTS OF SAMPLES AND LABELS\n",
    "\n",
    "instructions = list()\n",
    "compilers = list()\n",
    "optimization = list()\n",
    "for i in range (0,30000):\n",
    "    instruction= db.iloc[i,0]\n",
    "    opt= db.iloc[i,1]\n",
    "    compiler= db.iloc[i,2]\n",
    "    instructions.insert(i, instruction)\n",
    "    compilers.insert(i, compiler)\n",
    "    optimization.insert(i, opt)\n",
    "\n",
    "    \n",
    "print(instructions[1])\n",
    "print(compilers[1])\n",
    "print('Instructions and compilers lists created')\n",
    "print(len(instructions))"
   ]
  },
  {
   "cell_type": "code",
   "execution_count": null,
   "metadata": {
    "colab": {
     "base_uri": "https://localhost:8080/",
     "height": 104
    },
    "id": "38T7-RUbk_KI",
    "outputId": "15d71dc0-7470-427e-b62a-25727332f50a"
   },
   "outputs": [
    {
     "name": "stdout",
     "output_type": "stream",
     "text": [
      "gcc\n",
      "icc\n",
      "clang\n",
      "3000\n",
      "['xor edx edx', 'cmp rdi rsi', 'mov eax 0xffffffff', 'seta dl', 'cmovae eax edx', 'ret']\n"
     ]
    }
   ],
   "source": [
    "#CONSIDER LIMITED PART OF DATA\n",
    "\n",
    "instructions = list()\n",
    "compilers = list()\n",
    "for i in range (0,1000):\n",
    "    instructions.insert(i,db.iloc[i,0])\n",
    "    compilers.insert(i,db.iloc[i,2])\n",
    "for i in range (1000,2000):\n",
    "    instructions.insert(i,db.iloc[i+10000,0])\n",
    "    compilers.insert(i,db.iloc[i+10000,2])\n",
    "for i in range (2000,3000):\n",
    "    instructions.insert(i,db.iloc[i+20000,0])\n",
    "    compilers.insert(i,db.iloc[i+20000,2])    \n",
    "\n",
    "print(compilers[0])\n",
    "print(compilers[1000])\n",
    "print(compilers[2000])\n",
    "print(len(instructions))\n",
    "print(instructions[1])"
   ]
  },
  {
   "cell_type": "code",
   "execution_count": null,
   "metadata": {
    "colab": {
     "base_uri": "https://localhost:8080/",
     "height": 87
    },
    "id": "NSOU5wU5jCZW",
    "outputId": "341e0b2b-0028-4912-c689-3a6767abb383"
   },
   "outputs": [
    {
     "name": "stdout",
     "output_type": "stream",
     "text": [
      "['push r12', 'push rbp', 'push rbx', 'test byte [rdi + 0x46] 1', 'je 0x80003cf', 'mov edx 0', 'mov esi 0xf2', 'mov edi 0', 'call 0x80003cf', 'mov rbp rdi', 'mov r12d esi', 'mov rbx rdi', 'jmp 0x80003dd', 'mov rbx rax', 'mov rax qword [rbx + 0xd0]', 'test rax rax', 'je 0x80003ef', 'test byte [rax + 0x48] 1', 'je 0x80003da', 'cmp qword [rbx + 0x10] 0', 'je 0x8000418', 'cmp rbx qword [0x080003fd]', 'je 0x800040f', 'mov rdi rbx', 'call sym.snip', 'mov rdi rbx', 'call entry0', 'mov rax qword [rbx + 0x10]', 'jmp 0x800049f', 'mov eax 0', 'test r12b 1', 'jne 0x800049f', 'mov rdi rbx', 'call 0x800042b', 'test rax rax', 'je 0x8000464', 'test r12b 2', 'jne 0x800045e', 'mov rsi qword [rbx + 0x30]', 'mov rdi qword [rbx + 0x10]', 'mov edx 0', 'call 0x8000448', 'test eax eax', 'je 0x800045e', 'test r12b 4', 'jne 0x800045e', 'mov edi 1', 'call 0x800045c', 'jmp 0x8000464', 'mov rax qword [rbx + 0x10]', 'jmp 0x800049f', 'call 0x8000469', 'mov edi eax', 'call 0x8000470', 'mov rbx rax', 'mov edx 5', 'mov esi 0', 'mov edi 0', 'call 0x8000487', 'mov rdx rbx', 'mov rsi rbp', 'mov rdi rax', 'mov eax 0', 'call 0x800049a', 'mov eax 0', 'pop rbx', 'pop rbp', 'pop r12', 'ret']\n",
      "['push', 'r12', 'push', 'rbp', 'push', 'rbx', 'test', 'byte', '[rdi', '+', '0x46]', '1', 'je', '0x80003cf', 'mov', 'edx', '0', 'mov', 'esi', '0xf2', 'mov', 'edi', '0', 'call', '0x80003cf', 'mov', 'rbp', 'rdi', 'mov', 'r12d', 'esi', 'mov', 'rbx', 'rdi', 'jmp', '0x80003dd', 'mov', 'rbx', 'rax', 'mov', 'rax', 'qword', '[rbx', '+', '0xd0]', 'test', 'rax', 'rax', 'je', '0x80003ef', 'test', 'byte', '[rax', '+', '0x48]', '1', 'je', '0x80003da', 'cmp', 'qword', '[rbx', '+', '0x10]', '0', 'je', '0x8000418', 'cmp', 'rbx', 'qword', '[0x080003fd]', 'je', '0x800040f', 'mov', 'rdi', 'rbx', 'call', 'sym.snip', 'mov', 'rdi', 'rbx', 'call', 'entry0', 'mov', 'rax', 'qword', '[rbx', '+', '0x10]', 'jmp', '0x800049f', 'mov', 'eax', '0', 'test', 'r12b', '1', 'jne', '0x800049f', 'mov', 'rdi', 'rbx', 'call', '0x800042b', 'test', 'rax', 'rax', 'je', '0x8000464', 'test', 'r12b', '2', 'jne', '0x800045e', 'mov', 'rsi', 'qword', '[rbx', '+', '0x30]', 'mov', 'rdi', 'qword', '[rbx', '+', '0x10]', 'mov', 'edx', '0', 'call', '0x8000448', 'test', 'eax', 'eax', 'je', '0x800045e', 'test', 'r12b', '4', 'jne', '0x800045e', 'mov', 'edi', '1', 'call', '0x800045c', 'jmp', '0x8000464', 'mov', 'rax', 'qword', '[rbx', '+', '0x10]', 'jmp', '0x800049f', 'call', '0x8000469', 'mov', 'edi', 'eax', 'call', '0x8000470', 'mov', 'rbx', 'rax', 'mov', 'edx', '5', 'mov', 'esi', '0', 'mov', 'edi', '0', 'call', '0x8000487', 'mov', 'rdx', 'rbx', 'mov', 'rsi', 'rbp', 'mov', 'rdi', 'rax', 'mov', 'eax', '0', 'call', '0x800049a', 'mov', 'eax', '0', 'pop', 'rbx', 'pop', 'rbp', 'pop', 'r12', 'ret']\n",
      "['push r12', 'push rbp', 'push rbx', 'test byte [rdi + 0x46] 1', 'je 0x80003cf', 'mov edx 0', 'mov esi 0xf2', 'mov edi 0', 'call 0x80003cf', 'mov rbp rdi', 'mov r12d esi', 'mov rbx rdi', 'jmp 0x80003dd', 'mov rbx rax', 'mov rax qword [rbx + 0xd0]', 'test rax rax', 'je 0x80003ef', 'test byte [rax + 0x48] 1', 'je 0x80003da', 'cmp qword [rbx + 0x10] 0', 'je 0x8000418', 'cmp rbx qword [0x080003fd]', 'je 0x800040f', 'mov rdi rbx', 'call sym.snip', 'mov rdi rbx', 'call entry0', 'mov rax qword [rbx + 0x10]', 'jmp 0x800049f', 'mov eax 0', 'test r12b 1', 'jne 0x800049f', 'mov rdi rbx', 'call 0x800042b', 'test rax rax', 'je 0x8000464', 'test r12b 2', 'jne 0x800045e', 'mov rsi qword [rbx + 0x30]', 'mov rdi qword [rbx + 0x10]', 'mov edx 0', 'call 0x8000448', 'test eax eax', 'je 0x800045e', 'test r12b 4', 'jne 0x800045e', 'mov edi 1', 'call 0x800045c', 'jmp 0x8000464', 'mov rax qword [rbx + 0x10]', 'jmp 0x800049f', 'call 0x8000469', 'mov edi eax', 'call 0x8000470', 'mov rbx rax', 'mov edx 5', 'mov esi 0', 'mov edi 0', 'call 0x8000487', 'mov rdx rbx', 'mov rsi rbp', 'mov rdi rax', 'mov eax 0', 'call 0x800049a', 'mov eax 0', 'pop rbx', 'pop rbp', 'pop r12', 'ret']\n"
     ]
    }
   ],
   "source": [
    "#GENERATE LIST OF SPLIT INSTRUCTIONS\n",
    "\n",
    "instructions_split=[]\n",
    "for i in range (0, len(instructions)):\n",
    "    instruction_split=list()\n",
    "    j=0\n",
    "    for string in instructions[i]:\n",
    "    #print(string)\n",
    "    #print(len(string))\n",
    "    for k in range (0, len(string.split())):\n",
    "        tmp=string\n",
    "        tmp_split=tmp.split()\n",
    "        instruction_split.insert(j,tmp_split[k])\n",
    "        j+=1\n",
    "    instructions_split.append(instruction_split)\n",
    "\n",
    "print(instructions[0])\n",
    "print(instructions_split[0])  \n",
    "print(instructions[0])"
   ]
  },
  {
   "cell_type": "code",
   "execution_count": null,
   "metadata": {
    "colab": {
     "base_uri": "https://localhost:8080/",
     "height": 89
    },
    "id": "pSJCp2Uadltl",
    "outputId": "65648648-5e64-4eab-f656-1291aee65ca1"
   },
   "outputs": [
    {
     "name": "stdout",
     "output_type": "stream",
     "text": [
      "['push', 'push', 'push', 'test', 'je', 'mov', 'mov', 'mov', 'call', 'mov', 'mov', 'mov', 'jmp', 'mov', 'mov', 'test', 'je', 'test', 'je', 'cmp', 'je', 'cmp', 'je', 'mov', 'call', 'mov', 'call', 'mov', 'jmp', 'mov', 'test', 'jne', 'mov', 'call', 'test', 'je', 'test', 'jne', 'mov', 'mov', 'mov', 'call', 'test', 'je', 'test', 'jne', 'mov', 'call', 'jmp', 'mov', 'jmp', 'call', 'mov', 'call', 'mov', 'mov', 'mov', 'mov', 'call', 'mov', 'mov', 'mov', 'mov', 'call', 'mov', 'pop', 'pop', 'pop', 'ret']\n",
      "['xor', 'cmp', 'mov', 'seta', 'cmovae', 'ret']\n",
      "['mov', 'add', 'mov', 'call', 'mov', 'movzx', 'mov', 'call', 'test', 'je', 'movzx', 'mov', 'call', 'mov', 'call', 'mov', 'movzx', 'mov', 'call', 'mov', 'mov', 'call', 'mov', 'and', 'test', 'je', 'movzx', 'mov', 'call', 'mov', 'call', 'mov', 'movzx', 'mov', 'call', 'mov', 'call', 'mov', 'mov', 'mov', 'mov', 'call', 'add', 'jmp', 'mov', 'lea', 'movzx', 'lea', 'lea', 'mov', 'mov', 'mov', 'call', 'mov', 'mov', 'mov', 'call', 'mov', 'mov', 'call', 'mov', 'movzx', 'mov', 'call', 'mov', 'mov', 'call', 'mov', 'and', 'test', 'je', 'movzx', 'mov', 'call', 'mov', 'call', 'mov', 'lea', 'mov', 'mov', 'mov', 'call', 'mov', 'add', 'add', 'jmp', 'mov', 'cmp', 'je', 'cmp', 'ja', 'cmp', 'je', 'jmp', 'cmp', 'ja', 'jmp', 'mov', 'mov', 'add', 'mov', 'call', 'mov', 'mov', 'call', 'mov', 'call', 'jmp', 'mov', 'mov', 'call', 'mov', 'mov', 'call', 'mov', 'call', 'jmp', 'mov', 'mov', 'mov', 'mov', 'call', 'nop', 'mov', 'and', 'test', 'je', 'mov', 'mov', 'call', 'mov', 'mov', 'mov', 'sub', 'mov', 'mov', 'mov', 'mov', 'mov', 'mov', 'mov', 'mov', 'mov', 'mov', 'add', 'pop', 'pop', 'pop', 'pop', 'ret']\n"
     ]
    }
   ],
   "source": [
    "#GENERATE LIST OF MNEMONICS\n",
    "\n",
    "mnemonics=[]\n",
    "for i in range (0, len(instructions)):\n",
    "    mnemonic=list()\n",
    "    j=0\n",
    "    for string in instructions[i]:\n",
    "        tmp=string\n",
    "        tmp_split=tmp.split()\n",
    "        mnemonic.insert(j,tmp_split[0])\n",
    "        j+=1\n",
    "    mnemonics.append(mnemonic)  \n",
    "    \n",
    "print(mnemonics[0])\n",
    "print(mnemonics[1])\n",
    "print(mnemonics[2])"
   ]
  },
  {
   "cell_type": "code",
   "execution_count": null,
   "metadata": {
    "colab": {
     "base_uri": "https://localhost:8080/",
     "height": 54
    },
    "id": "6iMfPMB0QrMR",
    "outputId": "b613037d-4f8b-4cdf-a351-e8f0da2ec287"
   },
   "outputs": [
    {
     "name": "stdout",
     "output_type": "stream",
     "text": [
      "['push', 'push', 'push', 'test', 'je', 'mov', 'mov', 'mov', 'call', 'mov', 'ret', 'pop', 'pop', 'pop', 'mov', 'call', 'mov', 'mov', 'mov', 'mov']\n"
     ]
    }
   ],
   "source": [
    "#GENERATE CUTTED LIST OF MNEMONICS\n",
    "\n",
    "mnemonics=[]\n",
    "for i in range (0, len(instructions)):\n",
    "    mnemonic=list()\n",
    "    j=0\n",
    "    k=10\n",
    "    if len(instructions[i])>20:\n",
    "        for string1 in instructions[i]:\n",
    "            tmp1=string1\n",
    "            tmp_split1=tmp1.split()\n",
    "            mnemonic.insert(j,tmp_split1[0])\n",
    "            j+=1\n",
    "            if j>9:\n",
    "                break\n",
    "        for string2 in reversed(instructions[i]):\n",
    "            tmp2=string2\n",
    "            tmp_split2=tmp2.split()\n",
    "            mnemonic.insert(k,tmp_split2[0])\n",
    "            k+=1\n",
    "            if k>19:\n",
    "                break\n",
    "    elif len(instructions[i])<=20:\n",
    "        for string in instructions[i]:  \n",
    "            tmp=string\n",
    "            tmp_split=tmp.split()\n",
    "            mnemonic.insert(j,tmp_split[0])\n",
    "            j+=1\n",
    "    mnemonics.append(mnemonic)  \n",
    "    \n",
    "print(mnemonics[0])"
   ]
  },
  {
   "cell_type": "code",
   "execution_count": null,
   "metadata": {
    "colab": {
     "base_uri": "https://localhost:8080/",
     "height": 141
    },
    "id": "XR_HApR_Q1Rg",
    "outputId": "0b52d362-dfc7-4f83-baea-2f7d12bc5329"
   },
   "outputs": [
    {
     "name": "stdout",
     "output_type": "stream",
     "text": [
      "Instructions lists converted into strings\n",
      "Compilers list converted into array\n",
      "['xor', 'cmp', 'mov', 'seta', 'cmovae', 'ret']\n",
      "['push', 'push', 'push', 'test', 'je', 'mov', 'mov', 'mov', 'call', 'mov', 'mov', 'mov', 'jmp', 'mov', 'mov', 'test', 'je', 'test', 'je', 'cmp', 'je', 'cmp', 'je', 'mov', 'call', 'mov', 'call', 'mov', 'jmp', 'mov', 'test', 'jne', 'mov', 'call', 'test', 'je', 'test', 'jne', 'mov', 'mov', 'mov', 'call', 'test', 'je', 'test', 'jne', 'mov', 'call', 'jmp', 'mov', 'jmp', 'call', 'mov', 'call', 'mov', 'mov', 'mov', 'mov', 'call', 'mov', 'mov', 'mov', 'mov', 'call', 'mov', 'pop', 'pop', 'pop', 'ret']\n",
      "['xor edx edx', 'cmp rdi rsi', 'mov eax 0xffffffff', 'seta dl', 'cmovae eax edx', 'ret']\n",
      "3000\n"
     ]
    }
   ],
   "source": [
    "#CONVERT LISTS INTO LISTS OF STRINGS AND ARRAYS\n",
    "\n",
    "ins = list()\n",
    "mnem = list()\n",
    "blind_ins = list()\n",
    "for i in range (0, len(instructions)):\n",
    "    ins.insert(i, str(instructions[i]))\n",
    "    mnem.insert(i, str(mnemonics[i]))\n",
    "    blind_ins.insert(i, str(blind_instructions[i]))\n",
    "\n",
    "cmp_array = np.asarray(compilers)\n",
    "  \n",
    "print('Instructions lists converted into strings')\n",
    "print('Compilers list converted into array')\n",
    "print(mnem[1])\n",
    "print(mnem[0])\n",
    "print(ins[1])\n",
    "print(len(ins))"
   ]
  },
  {
   "cell_type": "code",
   "execution_count": null,
   "metadata": {
    "colab": {
     "base_uri": "https://localhost:8080/",
     "height": 985
    },
    "id": "i4FapGisRNIx",
    "outputId": "04291632-c597-45fc-dafd-71e032498748"
   },
   "outputs": [
    {
     "name": "stdout",
     "output_type": "stream",
     "text": [
      "['xor edx edx', 'cmp rdi rsi', 'mov eax 0xffffffff', 'seta dl', 'cmovae eax edx', 'ret']\n",
      "(3000, 6286721)\n",
      "(3000,)\n",
      "(3000,)\n",
      "  (0, 1104975)\t0.1361969669267073\n",
      "  (0, 2052869)\t0.1361969669267073\n",
      "  (0, 3655096)\t0.1361969669267073\n",
      "  (0, 5850693)\t0.1361969669267073\n",
      "  (0, 5701506)\t0.1361969669267073\n",
      "  (0, 1765141)\t0.1361969669267073\n",
      "  (0, 2569721)\t0.1361969669267073\n",
      "  (0, 2591909)\t0.1361969669267073\n",
      "  (0, 6273319)\t0.1361969669267073\n",
      "  (0, 5964750)\t0.1361969669267073\n",
      "  (0, 1104974)\t0.1361969669267073\n",
      "  (0, 2052868)\t0.1361969669267073\n",
      "  (0, 3655095)\t0.1361969669267073\n",
      "  (0, 5850692)\t0.1361969669267073\n",
      "  (0, 5701505)\t0.1361969669267073\n",
      "  (0, 1765140)\t0.1361969669267073\n",
      "  (0, 2569720)\t0.1361969669267073\n",
      "  (0, 2591908)\t0.1361969669267073\n",
      "  (0, 6273318)\t0.1361969669267073\n",
      "  (0, 1789087)\t0.1361969669267073\n",
      "  (0, 5964749)\t0.1361969669267073\n",
      "  (0, 1104973)\t0.1361969669267073\n",
      "  (0, 2052867)\t0.1361969669267073\n",
      "  (0, 3655094)\t0.1361969669267073\n",
      "  (0, 5850691)\t0.1361969669267073\n",
      "  :\t:\n",
      "  (0, 1789085)\t0.1361969669267073\n",
      "  (0, 5964747)\t0.1361969669267073\n",
      "  (0, 1104971)\t0.1361969669267073\n",
      "  (0, 2052865)\t0.1361969669267073\n",
      "  (0, 3654804)\t0.07130886227160765\n",
      "  (0, 5850665)\t0.07704102864233776\n",
      "  (0, 5701472)\t0.07277693533702229\n",
      "  (0, 1765034)\t0.09183227782468707\n",
      "  (0, 2569713)\t0.12955442630629552\n",
      "  (0, 2591668)\t0.0799395996721078\n",
      "  (0, 6272887)\t0.044480702002299574\n",
      "  (0, 2631946)\t0.09931513191402785\n",
      "  (0, 2179946)\t0.046308212937566456\n",
      "  (0, 1634827)\t0.11155638749202908\n",
      "  (0, 1789084)\t0.1361969669267073\n",
      "  (0, 5964746)\t0.10213047234514337\n",
      "  (0, 1104970)\t0.1361969669267073\n",
      "  (0, 2052419)\t0.07010593523109084\n",
      "  (0, 5849818)\t0.02938482297664699\n",
      "  (0, 5700735)\t0.05867810790901416\n",
      "  (0, 1763847)\t0.06284690284794389\n",
      "  (0, 2568092)\t0.05472211129802954\n",
      "  (0, 2591087)\t0.03972230051363913\n",
      "  (0, 6272775)\t0.04403183773417218\n",
      "  (0, 3651523)\t0.02169403563741993\n",
      "gcc\n"
     ]
    }
   ],
   "source": [
    "#FEATURE EXTRACTION\n",
    "\n",
    "#StopWords= ['ret','jump']\n",
    "\n",
    "print(ins[1])\n",
    "#vectorizer = HashingVectorizer() # multivariate\n",
    "#vectorizer = CountVectorizer(ngram_range=(2,7), binary=True) # multinomial\n",
    "vectorizer = TfidfVectorizer(ngram_range=(2,7), binary=True)\n",
    "X_all = vectorizer.fit_transform(ins)\n",
    "y_all= cmp_array\n",
    "print(X_all.shape)\n",
    "print(y_all.shape)\n",
    "print(y_all.shape)\n",
    "print(X_all[1])\n",
    "print(y_all[1])"
   ]
  },
  {
   "cell_type": "code",
   "execution_count": null,
   "metadata": {
    "colab": {
     "base_uri": "https://localhost:8080/",
     "height": 52
    },
    "id": "dT2e1m3yRPtB",
    "outputId": "13f71491-cb8c-4b96-cf21-286f9987973b"
   },
   "outputs": [
    {
     "name": "stdout",
     "output_type": "stream",
     "text": [
      "Size of Train set: 2400 - Size of Test set: 600\n",
      "['gcc' 'icc' 'icc' ... 'clang' 'clang' 'clang']\n"
     ]
    }
   ],
   "source": [
    "#TRAINING\n",
    "\n",
    "X_train, X_test, y_train, y_test = train_test_split(X_all, y_all, test_size=0.2, random_state=15)\n",
    "\n",
    "print(\"Size of Train set: %d - Size of Test set: %d\" %(X_train.shape[0],X_test.shape[0]))\n",
    "#print('%d %s %s' %(id,str(y_train[id]),str(X_train[id])))\n",
    "print(y_train)"
   ]
  },
  {
   "cell_type": "code",
   "execution_count": null,
   "metadata": {
    "colab": {
     "base_uri": "https://localhost:8080/",
     "height": 34
    },
    "id": "Yr6MPnM9RWGB",
    "outputId": "88d4a038-f9ae-49e5-a63c-9078fc6726e9"
   },
   "outputs": [
    {
     "name": "stdout",
     "output_type": "stream",
     "text": [
      "Bernoulli Model created\n"
     ]
    }
   ],
   "source": [
    "#BERNOULLI \n",
    "\n",
    "model = BernoulliNB().fit(X_train, y_train)\n",
    "print('Bernoulli Model created')"
   ]
  },
  {
   "cell_type": "code",
   "execution_count": null,
   "metadata": {
    "colab": {
     "base_uri": "https://localhost:8080/",
     "height": 34
    },
    "id": "RH3ZsO2dRet5",
    "outputId": "8a6597b9-5a78-4ab6-8fcf-ebe2654bb1e4"
   },
   "outputs": [
    {
     "name": "stdout",
     "output_type": "stream",
     "text": [
      "Multinomial Model created\n"
     ]
    }
   ],
   "source": [
    "#MULTINOMIAL\n",
    "\n",
    "model = MultinomialNB().fit(X_train, y_train)\n",
    "print('Multinomial Model created')"
   ]
  },
  {
   "cell_type": "code",
   "execution_count": null,
   "metadata": {
    "colab": {
     "base_uri": "https://localhost:8080/",
     "height": 34
    },
    "id": "BzB-9CZORg3p",
    "outputId": "343ce3fe-fa21-48ee-bed4-c6f1ac587fd9"
   },
   "outputs": [
    {
     "name": "stdout",
     "output_type": "stream",
     "text": [
      "SVM Model created\n"
     ]
    }
   ],
   "source": [
    "#SVM\n",
    "\n",
    "model = svm.SVC(kernel='linear', C=1)\n",
    "print('SVM Model created')\n",
    "model.fit(X_train, y_train)"
   ]
  },
  {
   "cell_type": "code",
   "execution_count": null,
   "metadata": {
    "colab": {
     "base_uri": "https://localhost:8080/",
     "height": 363
    },
    "id": "QvYgnDxERmmK",
    "outputId": "92eb5adf-06bb-4d7c-d1a5-fd3a60362e95"
   },
   "outputs": [
    {
     "name": "stdout",
     "output_type": "stream",
     "text": [
      "Accuracy: 0.922 \n",
      "\n",
      "Confusion Matrix: \n",
      "\n",
      "[[178  10   3]\n",
      " [ 15 182   3]\n",
      " [ 14   2 193]]\n",
      " \n",
      "\t\t\t Calssification Report: \n",
      "\n",
      "              precision    recall  f1-score   support\n",
      "\n",
      "       clang       0.86      0.93      0.89       191\n",
      "         gcc       0.94      0.91      0.92       200\n",
      "         icc       0.97      0.92      0.95       209\n",
      "\n",
      "    accuracy                           0.92       600\n",
      "   macro avg       0.92      0.92      0.92       600\n",
      "weighted avg       0.92      0.92      0.92       600\n",
      "\n"
     ]
    }
   ],
   "source": [
    "#ACCURACY, PRECISION, RECALL AND CONFUSION MATRIX\n",
    "\n",
    "acc = model.score(X_test, y_test)\n",
    "print(\"Accuracy: %.3f \\n\" %acc)\n",
    "y_pred = model.predict(X_test)\n",
    "print(\"Confusion Matrix: \\n\")\n",
    "print(confusion_matrix(y_test, y_pred))\n",
    "print(\" \\n\\t\\t\\t Calssification Report: \\n\")\n",
    "print(classification_report(y_test, y_pred))"
   ]
  },
  {
   "cell_type": "code",
   "execution_count": null,
   "metadata": {
    "colab": {
     "base_uri": "https://localhost:8080/",
     "height": 124
    },
    "id": "I4wPaMtvAnEN",
    "outputId": "f2a9f4d9-e39b-4553-badc-97a2d219ec7f"
   },
   "outputs": [
    {
     "name": "stdout",
     "output_type": "stream",
     "text": [
      "[array(['gcc'], dtype='<U5'), array(['gcc'], dtype='<U5'), array(['clang'], dtype='<U5'), array(['gcc'], dtype='<U5'), array(['gcc'], dtype='<U5'), array(['gcc'], dtype='<U5'), array(['gcc'], dtype='<U5'), array(['gcc'], dtype='<U5'), array(['gcc'], dtype='<U5'), array(['gcc'], dtype='<U5'), array(['gcc'], dtype='<U5'), array(['gcc'], dtype='<U5'), array(['clang'], dtype='<U5'), array(['gcc'], dtype='<U5'), array(['gcc'], dtype='<U5'), array(['gcc'], dtype='<U5'), array(['gcc'], dtype='<U5'), array(['gcc'], dtype='<U5'), array(['gcc'], dtype='<U5'), array(['gcc'], dtype='<U5'), array(['gcc'], dtype='<U5'), array(['gcc'], dtype='<U5'), array(['gcc'], dtype='<U5'), array(['gcc'], dtype='<U5'), array(['gcc'], dtype='<U5'), array(['gcc'], dtype='<U5'), array(['gcc'], dtype='<U5'), array(['gcc'], dtype='<U5'), array(['gcc'], dtype='<U5'), array(['gcc'], dtype='<U5'), array(['gcc'], dtype='<U5'), array(['gcc'], dtype='<U5'), array(['gcc'], dtype='<U5'), array(['gcc'], dtype='<U5'), array(['gcc'], dtype='<U5'), array(['gcc'], dtype='<U5'), array(['gcc'], dtype='<U5'), array(['gcc'], dtype='<U5'), array(['gcc'], dtype='<U5'), array(['gcc'], dtype='<U5'), array(['gcc'], dtype='<U5'), array(['gcc'], dtype='<U5'), array(['gcc'], dtype='<U5'), array(['gcc'], dtype='<U5'), array(['gcc'], dtype='<U5'), array(['gcc'], dtype='<U5'), array(['gcc'], dtype='<U5'), array(['gcc'], dtype='<U5'), array(['gcc'], dtype='<U5'), array(['gcc'], dtype='<U5'), array(['gcc'], dtype='<U5'), array(['gcc'], dtype='<U5'), array(['gcc'], dtype='<U5'), array(['gcc'], dtype='<U5'), array(['gcc'], dtype='<U5'), array(['gcc'], dtype='<U5'), array(['gcc'], dtype='<U5'), array(['gcc'], dtype='<U5'), array(['gcc'], dtype='<U5'), array(['gcc'], dtype='<U5'), array(['gcc'], dtype='<U5'), array(['gcc'], dtype='<U5'), array(['gcc'], dtype='<U5'), array(['gcc'], dtype='<U5'), array(['gcc'], dtype='<U5'), array(['gcc'], dtype='<U5'), array(['gcc'], dtype='<U5'), array(['gcc'], dtype='<U5'), array(['gcc'], dtype='<U5'), array(['clang'], dtype='<U5'), array(['gcc'], dtype='<U5'), array(['gcc'], dtype='<U5'), array(['gcc'], dtype='<U5'), array(['icc'], dtype='<U5'), array(['icc'], dtype='<U5'), array(['gcc'], dtype='<U5'), array(['gcc'], dtype='<U5'), array(['gcc'], dtype='<U5'), array(['gcc'], dtype='<U5'), array(['gcc'], dtype='<U5'), array(['gcc'], dtype='<U5'), array(['gcc'], dtype='<U5'), array(['gcc'], dtype='<U5'), array(['gcc'], dtype='<U5'), array(['gcc'], dtype='<U5'), array(['gcc'], dtype='<U5'), array(['gcc'], dtype='<U5'), array(['gcc'], dtype='<U5'), array(['gcc'], dtype='<U5'), array(['gcc'], dtype='<U5'), array(['gcc'], dtype='<U5'), array(['gcc'], dtype='<U5'), array(['gcc'], dtype='<U5'), array(['gcc'], dtype='<U5'), array(['gcc'], dtype='<U5'), array(['gcc'], dtype='<U5'), array(['gcc'], dtype='<U5'), array(['gcc'], dtype='<U5'), array(['gcc'], dtype='<U5'), array(['gcc'], dtype='<U5'), array(['gcc'], dtype='<U5'), array(['gcc'], dtype='<U5'), array(['icc'], dtype='<U5'), array(['gcc'], dtype='<U5'), array(['gcc'], dtype='<U5'), array(['gcc'], dtype='<U5'), array(['gcc'], dtype='<U5'), array(['gcc'], dtype='<U5'), array(['gcc'], dtype='<U5'), array(['gcc'], dtype='<U5'), array(['gcc'], dtype='<U5'), array(['gcc'], dtype='<U5'), array(['gcc'], dtype='<U5'), array(['gcc'], dtype='<U5'), array(['gcc'], dtype='<U5'), array(['gcc'], dtype='<U5'), array(['gcc'], dtype='<U5'), array(['gcc'], dtype='<U5'), array(['gcc'], dtype='<U5'), array(['gcc'], dtype='<U5'), array(['gcc'], dtype='<U5'), array(['gcc'], dtype='<U5'), array(['gcc'], dtype='<U5'), array(['gcc'], dtype='<U5'), array(['gcc'], dtype='<U5'), array(['gcc'], dtype='<U5'), array(['gcc'], dtype='<U5'), array(['gcc'], dtype='<U5'), array(['gcc'], dtype='<U5'), array(['gcc'], dtype='<U5'), array(['gcc'], dtype='<U5'), array(['gcc'], dtype='<U5'), array(['gcc'], dtype='<U5'), array(['icc'], dtype='<U5'), array(['gcc'], dtype='<U5'), array(['gcc'], dtype='<U5'), array(['gcc'], dtype='<U5'), array(['gcc'], dtype='<U5'), array(['gcc'], dtype='<U5'), array(['gcc'], dtype='<U5'), array(['gcc'], dtype='<U5'), array(['gcc'], dtype='<U5'), array(['gcc'], dtype='<U5'), array(['gcc'], dtype='<U5'), array(['gcc'], dtype='<U5'), array(['gcc'], dtype='<U5'), array(['gcc'], dtype='<U5'), array(['gcc'], dtype='<U5'), array(['gcc'], dtype='<U5'), array(['gcc'], dtype='<U5'), array(['gcc'], dtype='<U5'), array(['gcc'], dtype='<U5'), array(['clang'], dtype='<U5'), array(['gcc'], dtype='<U5'), array(['gcc'], dtype='<U5'), array(['gcc'], dtype='<U5'), array(['gcc'], dtype='<U5'), array(['gcc'], dtype='<U5'), array(['gcc'], dtype='<U5'), array(['gcc'], dtype='<U5'), array(['gcc'], dtype='<U5'), array(['gcc'], dtype='<U5'), array(['gcc'], dtype='<U5'), array(['gcc'], dtype='<U5'), array(['gcc'], dtype='<U5'), array(['gcc'], dtype='<U5'), array(['gcc'], dtype='<U5'), array(['gcc'], dtype='<U5'), array(['gcc'], dtype='<U5'), array(['gcc'], dtype='<U5'), array(['gcc'], dtype='<U5'), array(['gcc'], dtype='<U5'), array(['gcc'], dtype='<U5'), array(['gcc'], dtype='<U5'), array(['icc'], dtype='<U5'), array(['gcc'], dtype='<U5'), array(['gcc'], dtype='<U5'), array(['gcc'], dtype='<U5'), array(['gcc'], dtype='<U5'), array(['gcc'], dtype='<U5'), array(['gcc'], dtype='<U5'), array(['gcc'], dtype='<U5'), array(['gcc'], dtype='<U5'), array(['gcc'], dtype='<U5'), array(['gcc'], dtype='<U5'), array(['gcc'], dtype='<U5'), array(['gcc'], dtype='<U5'), array(['gcc'], dtype='<U5'), array(['gcc'], dtype='<U5'), array(['gcc'], dtype='<U5'), array(['gcc'], dtype='<U5'), array(['gcc'], dtype='<U5'), array(['gcc'], dtype='<U5'), array(['gcc'], dtype='<U5'), array(['gcc'], dtype='<U5'), array(['gcc'], dtype='<U5'), array(['gcc'], dtype='<U5'), array(['gcc'], dtype='<U5'), array(['clang'], dtype='<U5'), array(['gcc'], dtype='<U5'), array(['gcc'], dtype='<U5'), array(['gcc'], dtype='<U5'), array(['gcc'], dtype='<U5'), array(['gcc'], dtype='<U5'), array(['clang'], dtype='<U5'), array(['gcc'], dtype='<U5'), array(['gcc'], dtype='<U5'), array(['clang'], dtype='<U5'), array(['gcc'], dtype='<U5'), array(['gcc'], dtype='<U5'), array(['gcc'], dtype='<U5'), array(['gcc'], dtype='<U5'), array(['gcc'], dtype='<U5'), array(['clang'], dtype='<U5'), array(['gcc'], dtype='<U5'), array(['clang'], dtype='<U5'), array(['gcc'], dtype='<U5'), array(['gcc'], dtype='<U5'), array(['gcc'], dtype='<U5'), array(['gcc'], dtype='<U5'), array(['icc'], dtype='<U5'), array(['gcc'], dtype='<U5'), array(['gcc'], dtype='<U5'), array(['gcc'], dtype='<U5'), array(['gcc'], dtype='<U5'), array(['gcc'], dtype='<U5'), array(['gcc'], dtype='<U5'), array(['gcc'], dtype='<U5'), array(['gcc'], dtype='<U5'), array(['gcc'], dtype='<U5'), array(['gcc'], dtype='<U5'), array(['gcc'], dtype='<U5'), array(['gcc'], dtype='<U5'), array(['gcc'], dtype='<U5'), array(['gcc'], dtype='<U5'), array(['gcc'], dtype='<U5'), array(['gcc'], dtype='<U5'), array(['gcc'], dtype='<U5'), array(['gcc'], dtype='<U5'), array(['gcc'], dtype='<U5'), array(['gcc'], dtype='<U5'), array(['gcc'], dtype='<U5'), array(['gcc'], dtype='<U5'), array(['gcc'], dtype='<U5'), array(['gcc'], dtype='<U5'), array(['gcc'], dtype='<U5'), array(['gcc'], dtype='<U5'), array(['gcc'], dtype='<U5'), array(['gcc'], dtype='<U5'), array(['gcc'], dtype='<U5'), array(['clang'], dtype='<U5'), array(['clang'], dtype='<U5'), array(['gcc'], dtype='<U5'), array(['icc'], dtype='<U5'), array(['gcc'], dtype='<U5'), array(['gcc'], dtype='<U5'), array(['gcc'], dtype='<U5'), array(['gcc'], dtype='<U5'), array(['gcc'], dtype='<U5'), array(['gcc'], dtype='<U5'), array(['gcc'], dtype='<U5'), array(['clang'], dtype='<U5'), array(['gcc'], dtype='<U5'), array(['gcc'], dtype='<U5'), array(['gcc'], dtype='<U5'), array(['gcc'], dtype='<U5'), array(['gcc'], dtype='<U5'), array(['gcc'], dtype='<U5'), array(['gcc'], dtype='<U5'), array(['gcc'], dtype='<U5'), array(['gcc'], dtype='<U5'), array(['gcc'], dtype='<U5'), array(['clang'], dtype='<U5'), array(['gcc'], dtype='<U5'), array(['gcc'], dtype='<U5'), array(['gcc'], dtype='<U5'), array(['gcc'], dtype='<U5'), array(['gcc'], dtype='<U5'), array(['gcc'], dtype='<U5'), array(['gcc'], dtype='<U5'), array(['gcc'], dtype='<U5'), array(['gcc'], dtype='<U5'), array(['gcc'], dtype='<U5'), array(['gcc'], dtype='<U5'), array(['gcc'], dtype='<U5'), array(['clang'], dtype='<U5'), array(['gcc'], dtype='<U5'), array(['gcc'], dtype='<U5'), array(['gcc'], dtype='<U5'), array(['gcc'], dtype='<U5'), array(['gcc'], dtype='<U5'), array(['gcc'], dtype='<U5'), array(['gcc'], dtype='<U5'), array(['gcc'], dtype='<U5'), array(['gcc'], dtype='<U5'), array(['gcc'], dtype='<U5'), array(['gcc'], dtype='<U5'), array(['gcc'], dtype='<U5'), array(['gcc'], dtype='<U5'), array(['gcc'], dtype='<U5'), array(['gcc'], dtype='<U5'), array(['icc'], dtype='<U5'), array(['gcc'], dtype='<U5'), array(['gcc'], dtype='<U5'), array(['gcc'], dtype='<U5'), array(['gcc'], dtype='<U5'), array(['gcc'], dtype='<U5'), array(['gcc'], dtype='<U5'), array(['gcc'], dtype='<U5'), array(['gcc'], dtype='<U5'), array(['gcc'], dtype='<U5'), array(['gcc'], dtype='<U5'), array(['gcc'], dtype='<U5'), array(['clang'], dtype='<U5'), array(['gcc'], dtype='<U5'), array(['gcc'], dtype='<U5'), array(['gcc'], dtype='<U5'), array(['gcc'], dtype='<U5'), array(['gcc'], dtype='<U5'), array(['gcc'], dtype='<U5'), array(['gcc'], dtype='<U5'), array(['gcc'], dtype='<U5'), array(['gcc'], dtype='<U5'), array(['gcc'], dtype='<U5'), array(['gcc'], dtype='<U5'), array(['gcc'], dtype='<U5'), array(['gcc'], dtype='<U5'), array(['gcc'], dtype='<U5'), array(['gcc'], dtype='<U5'), array(['clang'], dtype='<U5'), array(['gcc'], dtype='<U5'), array(['gcc'], dtype='<U5'), array(['clang'], dtype='<U5'), array(['gcc'], dtype='<U5'), array(['gcc'], dtype='<U5'), array(['gcc'], dtype='<U5'), array(['gcc'], dtype='<U5'), array(['gcc'], dtype='<U5'), array(['gcc'], dtype='<U5'), array(['gcc'], dtype='<U5'), array(['gcc'], dtype='<U5'), array(['gcc'], dtype='<U5'), array(['gcc'], dtype='<U5'), array(['gcc'], dtype='<U5'), array(['gcc'], dtype='<U5'), array(['gcc'], dtype='<U5'), array(['gcc'], dtype='<U5'), array(['gcc'], dtype='<U5'), array(['gcc'], dtype='<U5'), array(['gcc'], dtype='<U5'), array(['gcc'], dtype='<U5'), array(['gcc'], dtype='<U5'), array(['gcc'], dtype='<U5'), array(['gcc'], dtype='<U5'), array(['gcc'], dtype='<U5'), array(['gcc'], dtype='<U5'), array(['gcc'], dtype='<U5'), array(['clang'], dtype='<U5'), array(['gcc'], dtype='<U5'), array(['clang'], dtype='<U5'), array(['gcc'], dtype='<U5'), array(['gcc'], dtype='<U5'), array(['gcc'], dtype='<U5'), array(['clang'], dtype='<U5'), array(['icc'], dtype='<U5'), array(['gcc'], dtype='<U5'), array(['gcc'], dtype='<U5'), array(['gcc'], dtype='<U5'), array(['gcc'], dtype='<U5'), array(['gcc'], dtype='<U5'), array(['gcc'], dtype='<U5'), array(['gcc'], dtype='<U5'), array(['gcc'], dtype='<U5'), array(['gcc'], dtype='<U5'), array(['gcc'], dtype='<U5'), array(['gcc'], dtype='<U5'), array(['gcc'], dtype='<U5'), array(['gcc'], dtype='<U5'), array(['gcc'], dtype='<U5'), array(['gcc'], dtype='<U5'), array(['gcc'], dtype='<U5'), array(['gcc'], dtype='<U5'), array(['gcc'], dtype='<U5'), array(['gcc'], dtype='<U5'), array(['gcc'], dtype='<U5'), array(['gcc'], dtype='<U5'), array(['gcc'], dtype='<U5'), array(['gcc'], dtype='<U5'), array(['gcc'], dtype='<U5'), array(['gcc'], dtype='<U5'), array(['gcc'], dtype='<U5'), array(['gcc'], dtype='<U5'), array(['gcc'], dtype='<U5'), array(['gcc'], dtype='<U5'), array(['gcc'], dtype='<U5'), array(['gcc'], dtype='<U5'), array(['gcc'], dtype='<U5'), array(['gcc'], dtype='<U5'), array(['gcc'], dtype='<U5'), array(['gcc'], dtype='<U5'), array(['gcc'], dtype='<U5'), array(['gcc'], dtype='<U5'), array(['gcc'], dtype='<U5'), array(['gcc'], dtype='<U5'), array(['gcc'], dtype='<U5'), array(['gcc'], dtype='<U5'), array(['gcc'], dtype='<U5'), array(['gcc'], dtype='<U5'), array(['gcc'], dtype='<U5'), array(['gcc'], dtype='<U5'), array(['gcc'], dtype='<U5'), array(['gcc'], dtype='<U5'), array(['gcc'], dtype='<U5'), array(['gcc'], dtype='<U5'), array(['gcc'], dtype='<U5'), array(['gcc'], dtype='<U5'), array(['gcc'], dtype='<U5'), array(['gcc'], dtype='<U5'), array(['gcc'], dtype='<U5'), array(['gcc'], dtype='<U5'), array(['gcc'], dtype='<U5'), array(['gcc'], dtype='<U5'), array(['gcc'], dtype='<U5'), array(['clang'], dtype='<U5'), array(['gcc'], dtype='<U5'), array(['gcc'], dtype='<U5'), array(['gcc'], dtype='<U5'), array(['gcc'], dtype='<U5'), array(['gcc'], dtype='<U5'), array(['gcc'], dtype='<U5'), array(['gcc'], dtype='<U5'), array(['gcc'], dtype='<U5'), array(['gcc'], dtype='<U5'), array(['clang'], dtype='<U5'), array(['gcc'], dtype='<U5'), array(['gcc'], dtype='<U5'), array(['gcc'], dtype='<U5'), array(['gcc'], dtype='<U5'), array(['gcc'], dtype='<U5'), array(['gcc'], dtype='<U5'), array(['gcc'], dtype='<U5'), array(['gcc'], dtype='<U5'), array(['gcc'], dtype='<U5'), array(['gcc'], dtype='<U5'), array(['clang'], dtype='<U5'), array(['gcc'], dtype='<U5'), array(['gcc'], dtype='<U5'), array(['gcc'], dtype='<U5'), array(['gcc'], dtype='<U5'), array(['gcc'], dtype='<U5'), array(['gcc'], dtype='<U5'), array(['gcc'], dtype='<U5'), array(['gcc'], dtype='<U5'), array(['gcc'], dtype='<U5'), array(['icc'], dtype='<U5'), array(['gcc'], dtype='<U5'), array(['gcc'], dtype='<U5'), array(['gcc'], dtype='<U5'), array(['gcc'], dtype='<U5'), array(['gcc'], dtype='<U5'), array(['gcc'], dtype='<U5'), array(['gcc'], dtype='<U5'), array(['gcc'], dtype='<U5'), array(['gcc'], dtype='<U5'), array(['gcc'], dtype='<U5'), array(['gcc'], dtype='<U5'), array(['gcc'], dtype='<U5'), array(['clang'], dtype='<U5'), array(['gcc'], dtype='<U5'), array(['gcc'], dtype='<U5'), array(['gcc'], dtype='<U5'), array(['gcc'], dtype='<U5'), array(['gcc'], dtype='<U5'), array(['gcc'], dtype='<U5'), array(['gcc'], dtype='<U5'), array(['gcc'], dtype='<U5'), array(['clang'], dtype='<U5'), array(['gcc'], dtype='<U5'), array(['gcc'], dtype='<U5'), array(['gcc'], dtype='<U5'), array(['gcc'], dtype='<U5'), array(['gcc'], dtype='<U5'), array(['gcc'], dtype='<U5'), array(['gcc'], dtype='<U5'), array(['gcc'], dtype='<U5'), array(['gcc'], dtype='<U5'), array(['gcc'], dtype='<U5'), array(['gcc'], dtype='<U5'), array(['gcc'], dtype='<U5'), array(['gcc'], dtype='<U5'), array(['gcc'], dtype='<U5'), array(['gcc'], dtype='<U5'), array(['gcc'], dtype='<U5'), array(['icc'], dtype='<U5'), array(['gcc'], dtype='<U5'), array(['gcc'], dtype='<U5'), array(['gcc'], dtype='<U5'), array(['gcc'], dtype='<U5'), array(['clang'], dtype='<U5'), array(['gcc'], dtype='<U5'), array(['gcc'], dtype='<U5'), array(['gcc'], dtype='<U5'), array(['gcc'], dtype='<U5'), array(['gcc'], dtype='<U5'), array(['gcc'], dtype='<U5'), array(['gcc'], dtype='<U5'), array(['clang'], dtype='<U5'), array(['gcc'], dtype='<U5'), array(['gcc'], dtype='<U5'), array(['gcc'], dtype='<U5'), array(['clang'], dtype='<U5'), array(['gcc'], dtype='<U5'), array(['gcc'], dtype='<U5'), array(['gcc'], dtype='<U5'), array(['gcc'], dtype='<U5'), array(['gcc'], dtype='<U5'), array(['gcc'], dtype='<U5'), array(['gcc'], dtype='<U5'), array(['gcc'], dtype='<U5'), array(['gcc'], dtype='<U5'), array(['gcc'], dtype='<U5'), array(['gcc'], dtype='<U5'), array(['gcc'], dtype='<U5'), array(['gcc'], dtype='<U5'), array(['gcc'], dtype='<U5'), array(['gcc'], dtype='<U5'), array(['gcc'], dtype='<U5'), array(['gcc'], dtype='<U5'), array(['gcc'], dtype='<U5'), array(['gcc'], dtype='<U5'), array(['gcc'], dtype='<U5'), array(['gcc'], dtype='<U5'), array(['gcc'], dtype='<U5'), array(['gcc'], dtype='<U5'), array(['gcc'], dtype='<U5'), array(['gcc'], dtype='<U5'), array(['gcc'], dtype='<U5'), array(['gcc'], dtype='<U5'), array(['icc'], dtype='<U5'), array(['gcc'], dtype='<U5'), array(['clang'], dtype='<U5'), array(['gcc'], dtype='<U5'), array(['gcc'], dtype='<U5'), array(['gcc'], dtype='<U5'), array(['gcc'], dtype='<U5'), array(['gcc'], dtype='<U5'), array(['gcc'], dtype='<U5'), array(['gcc'], dtype='<U5'), array(['clang'], dtype='<U5'), array(['gcc'], dtype='<U5'), array(['gcc'], dtype='<U5'), array(['gcc'], dtype='<U5'), array(['gcc'], dtype='<U5'), array(['gcc'], dtype='<U5'), array(['gcc'], dtype='<U5'), array(['gcc'], dtype='<U5'), array(['gcc'], dtype='<U5'), array(['gcc'], dtype='<U5'), array(['gcc'], dtype='<U5'), array(['gcc'], dtype='<U5'), array(['gcc'], dtype='<U5'), array(['gcc'], dtype='<U5'), array(['gcc'], dtype='<U5'), array(['gcc'], dtype='<U5'), array(['icc'], dtype='<U5'), array(['icc'], dtype='<U5'), array(['gcc'], dtype='<U5'), array(['clang'], dtype='<U5'), array(['gcc'], dtype='<U5'), array(['gcc'], dtype='<U5'), array(['gcc'], dtype='<U5'), array(['gcc'], dtype='<U5'), array(['gcc'], dtype='<U5'), array(['gcc'], dtype='<U5'), array(['gcc'], dtype='<U5'), array(['gcc'], dtype='<U5'), array(['gcc'], dtype='<U5'), array(['gcc'], dtype='<U5'), array(['gcc'], dtype='<U5'), array(['gcc'], dtype='<U5'), array(['gcc'], dtype='<U5'), array(['gcc'], dtype='<U5'), array(['gcc'], dtype='<U5'), array(['gcc'], dtype='<U5'), array(['gcc'], dtype='<U5'), array(['gcc'], dtype='<U5'), array(['gcc'], dtype='<U5'), array(['clang'], dtype='<U5'), array(['gcc'], dtype='<U5'), array(['gcc'], dtype='<U5'), array(['gcc'], dtype='<U5'), array(['gcc'], dtype='<U5'), array(['clang'], dtype='<U5'), array(['gcc'], dtype='<U5'), array(['gcc'], dtype='<U5'), array(['gcc'], dtype='<U5'), array(['gcc'], dtype='<U5'), array(['gcc'], dtype='<U5'), array(['gcc'], dtype='<U5'), array(['gcc'], dtype='<U5'), array(['gcc'], dtype='<U5'), array(['gcc'], dtype='<U5'), array(['gcc'], dtype='<U5'), array(['gcc'], dtype='<U5'), array(['gcc'], dtype='<U5'), array(['gcc'], dtype='<U5'), array(['gcc'], dtype='<U5'), array(['gcc'], dtype='<U5'), array(['clang'], dtype='<U5'), array(['icc'], dtype='<U5'), array(['gcc'], dtype='<U5'), array(['gcc'], dtype='<U5'), array(['gcc'], dtype='<U5'), array(['gcc'], dtype='<U5'), array(['gcc'], dtype='<U5'), array(['gcc'], dtype='<U5'), array(['gcc'], dtype='<U5'), array(['gcc'], dtype='<U5'), array(['gcc'], dtype='<U5'), array(['gcc'], dtype='<U5'), array(['gcc'], dtype='<U5'), array(['gcc'], dtype='<U5'), array(['gcc'], dtype='<U5'), array(['gcc'], dtype='<U5'), array(['gcc'], dtype='<U5'), array(['gcc'], dtype='<U5'), array(['clang'], dtype='<U5'), array(['gcc'], dtype='<U5'), array(['gcc'], dtype='<U5'), array(['gcc'], dtype='<U5'), array(['gcc'], dtype='<U5'), array(['gcc'], dtype='<U5'), array(['gcc'], dtype='<U5'), array(['gcc'], dtype='<U5'), array(['gcc'], dtype='<U5'), array(['gcc'], dtype='<U5'), array(['gcc'], dtype='<U5'), array(['gcc'], dtype='<U5'), array(['gcc'], dtype='<U5'), array(['gcc'], dtype='<U5'), array(['clang'], dtype='<U5'), array(['icc'], dtype='<U5'), array(['gcc'], dtype='<U5'), array(['gcc'], dtype='<U5'), array(['gcc'], dtype='<U5'), array(['gcc'], dtype='<U5'), array(['gcc'], dtype='<U5'), array(['gcc'], dtype='<U5'), array(['gcc'], dtype='<U5'), array(['gcc'], dtype='<U5'), array(['gcc'], dtype='<U5'), array(['gcc'], dtype='<U5'), array(['gcc'], dtype='<U5'), array(['icc'], dtype='<U5'), array(['gcc'], dtype='<U5'), array(['clang'], dtype='<U5'), array(['gcc'], dtype='<U5'), array(['gcc'], dtype='<U5'), array(['gcc'], dtype='<U5'), array(['gcc'], dtype='<U5'), array(['gcc'], dtype='<U5'), array(['gcc'], dtype='<U5'), array(['gcc'], dtype='<U5'), array(['gcc'], dtype='<U5'), array(['gcc'], dtype='<U5'), array(['gcc'], dtype='<U5'), array(['gcc'], dtype='<U5'), array(['gcc'], dtype='<U5'), array(['gcc'], dtype='<U5'), array(['gcc'], dtype='<U5'), array(['gcc'], dtype='<U5'), array(['gcc'], dtype='<U5'), array(['gcc'], dtype='<U5'), array(['gcc'], dtype='<U5'), array(['gcc'], dtype='<U5'), array(['gcc'], dtype='<U5'), array(['gcc'], dtype='<U5'), array(['gcc'], dtype='<U5'), array(['gcc'], dtype='<U5'), array(['gcc'], dtype='<U5'), array(['gcc'], dtype='<U5'), array(['gcc'], dtype='<U5'), array(['gcc'], dtype='<U5'), array(['gcc'], dtype='<U5'), array(['gcc'], dtype='<U5'), array(['gcc'], dtype='<U5'), array(['gcc'], dtype='<U5'), array(['gcc'], dtype='<U5'), array(['gcc'], dtype='<U5'), array(['gcc'], dtype='<U5'), array(['gcc'], dtype='<U5'), array(['gcc'], dtype='<U5'), array(['gcc'], dtype='<U5'), array(['gcc'], dtype='<U5'), array(['icc'], dtype='<U5'), array(['gcc'], dtype='<U5'), array(['gcc'], dtype='<U5'), array(['gcc'], dtype='<U5'), array(['gcc'], dtype='<U5'), array(['gcc'], dtype='<U5'), array(['gcc'], dtype='<U5'), array(['gcc'], dtype='<U5'), array(['clang'], dtype='<U5'), array(['gcc'], dtype='<U5'), array(['gcc'], dtype='<U5'), array(['gcc'], dtype='<U5'), array(['gcc'], dtype='<U5'), array(['gcc'], dtype='<U5'), array(['gcc'], dtype='<U5'), array(['gcc'], dtype='<U5'), array(['gcc'], dtype='<U5'), array(['icc'], dtype='<U5'), array(['gcc'], dtype='<U5'), array(['gcc'], dtype='<U5'), array(['gcc'], dtype='<U5'), array(['gcc'], dtype='<U5'), array(['gcc'], dtype='<U5'), array(['clang'], dtype='<U5'), array(['gcc'], dtype='<U5'), array(['gcc'], dtype='<U5'), array(['gcc'], dtype='<U5'), array(['gcc'], dtype='<U5'), array(['gcc'], dtype='<U5'), array(['gcc'], dtype='<U5'), array(['gcc'], dtype='<U5'), array(['gcc'], dtype='<U5'), array(['gcc'], dtype='<U5'), array(['gcc'], dtype='<U5'), array(['gcc'], dtype='<U5'), array(['gcc'], dtype='<U5'), array(['gcc'], dtype='<U5'), array(['gcc'], dtype='<U5'), array(['gcc'], dtype='<U5'), array(['gcc'], dtype='<U5'), array(['gcc'], dtype='<U5'), array(['gcc'], dtype='<U5'), array(['gcc'], dtype='<U5'), array(['clang'], dtype='<U5'), array(['gcc'], dtype='<U5'), array(['gcc'], dtype='<U5'), array(['gcc'], dtype='<U5'), array(['gcc'], dtype='<U5'), array(['gcc'], dtype='<U5'), array(['gcc'], dtype='<U5'), array(['gcc'], dtype='<U5'), array(['gcc'], dtype='<U5'), array(['gcc'], dtype='<U5'), array(['gcc'], dtype='<U5'), array(['gcc'], dtype='<U5'), array(['gcc'], dtype='<U5'), array(['gcc'], dtype='<U5'), array(['gcc'], dtype='<U5'), array(['gcc'], dtype='<U5'), array(['icc'], dtype='<U5'), array(['gcc'], dtype='<U5'), array(['gcc'], dtype='<U5'), array(['gcc'], dtype='<U5'), array(['gcc'], dtype='<U5'), array(['gcc'], dtype='<U5'), array(['gcc'], dtype='<U5'), array(['gcc'], dtype='<U5'), array(['gcc'], dtype='<U5'), array(['gcc'], dtype='<U5'), array(['gcc'], dtype='<U5'), array(['gcc'], dtype='<U5'), array(['gcc'], dtype='<U5'), array(['gcc'], dtype='<U5'), array(['gcc'], dtype='<U5'), array(['gcc'], dtype='<U5'), array(['gcc'], dtype='<U5'), array(['gcc'], dtype='<U5'), array(['gcc'], dtype='<U5'), array(['gcc'], dtype='<U5'), array(['gcc'], dtype='<U5'), array(['gcc'], dtype='<U5'), array(['gcc'], dtype='<U5'), array(['icc'], dtype='<U5'), array(['clang'], dtype='<U5'), array(['gcc'], dtype='<U5'), array(['gcc'], dtype='<U5'), array(['gcc'], dtype='<U5'), array(['gcc'], dtype='<U5'), array(['gcc'], dtype='<U5'), array(['gcc'], dtype='<U5'), array(['gcc'], dtype='<U5'), array(['gcc'], dtype='<U5'), array(['clang'], dtype='<U5'), array(['gcc'], dtype='<U5'), array(['icc'], dtype='<U5'), array(['gcc'], dtype='<U5'), array(['icc'], dtype='<U5'), array(['gcc'], dtype='<U5'), array(['gcc'], dtype='<U5'), array(['gcc'], dtype='<U5'), array(['gcc'], dtype='<U5'), array(['gcc'], dtype='<U5'), array(['gcc'], dtype='<U5'), array(['gcc'], dtype='<U5'), array(['gcc'], dtype='<U5'), array(['gcc'], dtype='<U5'), array(['gcc'], dtype='<U5'), array(['gcc'], dtype='<U5'), array(['gcc'], dtype='<U5'), array(['gcc'], dtype='<U5'), array(['gcc'], dtype='<U5'), array(['gcc'], dtype='<U5'), array(['gcc'], dtype='<U5'), array(['gcc'], dtype='<U5'), array(['gcc'], dtype='<U5'), array(['gcc'], dtype='<U5'), array(['gcc'], dtype='<U5'), array(['gcc'], dtype='<U5'), array(['gcc'], dtype='<U5'), array(['gcc'], dtype='<U5'), array(['gcc'], dtype='<U5'), array(['gcc'], dtype='<U5'), array(['gcc'], dtype='<U5'), array(['gcc'], dtype='<U5'), array(['gcc'], dtype='<U5'), array(['gcc'], dtype='<U5'), array(['gcc'], dtype='<U5'), array(['gcc'], dtype='<U5'), array(['icc'], dtype='<U5'), array(['gcc'], dtype='<U5'), array(['gcc'], dtype='<U5'), array(['gcc'], dtype='<U5'), array(['gcc'], dtype='<U5'), array(['gcc'], dtype='<U5'), array(['gcc'], dtype='<U5'), array(['gcc'], dtype='<U5'), array(['gcc'], dtype='<U5'), array(['gcc'], dtype='<U5'), array(['gcc'], dtype='<U5'), array(['gcc'], dtype='<U5'), array(['gcc'], dtype='<U5'), array(['gcc'], dtype='<U5'), array(['gcc'], dtype='<U5'), array(['gcc'], dtype='<U5'), array(['icc'], dtype='<U5'), array(['gcc'], dtype='<U5'), array(['gcc'], dtype='<U5'), array(['gcc'], dtype='<U5'), array(['gcc'], dtype='<U5'), array(['gcc'], dtype='<U5'), array(['gcc'], dtype='<U5'), array(['gcc'], dtype='<U5'), array(['gcc'], dtype='<U5'), array(['gcc'], dtype='<U5'), array(['gcc'], dtype='<U5'), array(['gcc'], dtype='<U5'), array(['gcc'], dtype='<U5'), array(['gcc'], dtype='<U5'), array(['gcc'], dtype='<U5'), array(['gcc'], dtype='<U5'), array(['gcc'], dtype='<U5'), array(['gcc'], dtype='<U5'), array(['gcc'], dtype='<U5'), array(['clang'], dtype='<U5'), array(['gcc'], dtype='<U5'), array(['gcc'], dtype='<U5'), array(['gcc'], dtype='<U5'), array(['gcc'], dtype='<U5'), array(['gcc'], dtype='<U5'), array(['gcc'], dtype='<U5'), array(['gcc'], dtype='<U5'), array(['gcc'], dtype='<U5'), array(['clang'], dtype='<U5'), array(['gcc'], dtype='<U5'), array(['gcc'], dtype='<U5'), array(['gcc'], dtype='<U5'), array(['gcc'], dtype='<U5'), array(['clang'], dtype='<U5'), array(['gcc'], dtype='<U5'), array(['gcc'], dtype='<U5'), array(['clang'], dtype='<U5'), array(['gcc'], dtype='<U5'), array(['gcc'], dtype='<U5'), array(['gcc'], dtype='<U5'), array(['gcc'], dtype='<U5'), array(['gcc'], dtype='<U5'), array(['gcc'], dtype='<U5'), array(['gcc'], dtype='<U5'), array(['icc'], dtype='<U5'), array(['gcc'], dtype='<U5'), array(['gcc'], dtype='<U5'), array(['clang'], dtype='<U5'), array(['gcc'], dtype='<U5'), array(['gcc'], dtype='<U5'), array(['gcc'], dtype='<U5'), array(['icc'], dtype='<U5'), array(['gcc'], dtype='<U5'), array(['gcc'], dtype='<U5'), array(['gcc'], dtype='<U5'), array(['gcc'], dtype='<U5'), array(['gcc'], dtype='<U5'), array(['gcc'], dtype='<U5'), array(['gcc'], dtype='<U5'), array(['gcc'], dtype='<U5'), array(['clang'], dtype='<U5'), array(['gcc'], dtype='<U5'), array(['gcc'], dtype='<U5'), array(['gcc'], dtype='<U5'), array(['gcc'], dtype='<U5'), array(['gcc'], dtype='<U5'), array(['gcc'], dtype='<U5'), array(['gcc'], dtype='<U5'), array(['gcc'], dtype='<U5'), array(['gcc'], dtype='<U5'), array(['gcc'], dtype='<U5'), array(['gcc'], dtype='<U5'), array(['gcc'], dtype='<U5'), array(['gcc'], dtype='<U5'), array(['gcc'], dtype='<U5'), array(['gcc'], dtype='<U5'), array(['icc'], dtype='<U5'), array(['clang'], dtype='<U5'), array(['gcc'], dtype='<U5'), array(['gcc'], dtype='<U5'), array(['gcc'], dtype='<U5'), array(['gcc'], dtype='<U5'), array(['gcc'], dtype='<U5'), array(['gcc'], dtype='<U5'), array(['icc'], dtype='<U5'), array(['gcc'], dtype='<U5'), array(['gcc'], dtype='<U5'), array(['gcc'], dtype='<U5'), array(['gcc'], dtype='<U5'), array(['gcc'], dtype='<U5'), array(['gcc'], dtype='<U5'), array(['gcc'], dtype='<U5'), array(['gcc'], dtype='<U5'), array(['gcc'], dtype='<U5'), array(['clang'], dtype='<U5'), array(['gcc'], dtype='<U5'), array(['gcc'], dtype='<U5'), array(['gcc'], dtype='<U5'), array(['gcc'], dtype='<U5'), array(['gcc'], dtype='<U5'), array(['gcc'], dtype='<U5'), array(['gcc'], dtype='<U5'), array(['gcc'], dtype='<U5'), array(['gcc'], dtype='<U5'), array(['gcc'], dtype='<U5'), array(['gcc'], dtype='<U5'), array(['gcc'], dtype='<U5'), array(['gcc'], dtype='<U5'), array(['gcc'], dtype='<U5'), array(['clang'], dtype='<U5'), array(['gcc'], dtype='<U5'), array(['gcc'], dtype='<U5'), array(['clang'], dtype='<U5'), array(['gcc'], dtype='<U5'), array(['gcc'], dtype='<U5'), array(['gcc'], dtype='<U5'), array(['gcc'], dtype='<U5'), array(['gcc'], dtype='<U5'), array(['gcc'], dtype='<U5'), array(['icc'], dtype='<U5'), array(['icc'], dtype='<U5'), array(['gcc'], dtype='<U5'), array(['gcc'], dtype='<U5'), array(['gcc'], dtype='<U5'), array(['gcc'], dtype='<U5'), array(['gcc'], dtype='<U5'), array(['gcc'], dtype='<U5'), array(['gcc'], dtype='<U5'), array(['gcc'], dtype='<U5'), array(['gcc'], dtype='<U5'), array(['gcc'], dtype='<U5'), array(['gcc'], dtype='<U5'), array(['gcc'], dtype='<U5'), array(['gcc'], dtype='<U5'), array(['gcc'], dtype='<U5'), array(['gcc'], dtype='<U5'), array(['gcc'], dtype='<U5'), array(['icc'], dtype='<U5'), array(['clang'], dtype='<U5'), array(['clang'], dtype='<U5'), array(['clang'], dtype='<U5'), array(['gcc'], dtype='<U5'), array(['gcc'], dtype='<U5'), array(['gcc'], dtype='<U5'), array(['gcc'], dtype='<U5'), array(['gcc'], dtype='<U5'), array(['gcc'], dtype='<U5'), array(['gcc'], dtype='<U5'), array(['gcc'], dtype='<U5'), array(['gcc'], dtype='<U5'), array(['gcc'], dtype='<U5'), array(['gcc'], dtype='<U5'), array(['gcc'], dtype='<U5'), array(['gcc'], dtype='<U5'), array(['gcc'], dtype='<U5'), array(['gcc'], dtype='<U5'), array(['gcc'], dtype='<U5'), array(['gcc'], dtype='<U5'), array(['gcc'], dtype='<U5'), array(['gcc'], dtype='<U5'), array(['gcc'], dtype='<U5'), array(['gcc'], dtype='<U5'), array(['icc'], dtype='<U5'), array(['icc'], dtype='<U5'), array(['icc'], dtype='<U5'), array(['icc'], dtype='<U5'), array(['icc'], dtype='<U5'), array(['icc'], dtype='<U5'), array(['icc'], dtype='<U5'), array(['icc'], dtype='<U5'), array(['icc'], dtype='<U5'), array(['icc'], dtype='<U5'), array(['icc'], dtype='<U5'), array(['icc'], dtype='<U5'), array(['icc'], dtype='<U5'), array(['icc'], dtype='<U5'), array(['icc'], dtype='<U5'), array(['icc'], dtype='<U5'), array(['icc'], dtype='<U5'), array(['icc'], dtype='<U5'), array(['icc'], dtype='<U5'), array(['icc'], dtype='<U5'), array(['icc'], dtype='<U5'), array(['icc'], dtype='<U5'), array(['icc'], dtype='<U5'), array(['icc'], dtype='<U5'), array(['icc'], dtype='<U5'), array(['icc'], dtype='<U5'), array(['icc'], dtype='<U5'), array(['icc'], dtype='<U5'), array(['icc'], dtype='<U5'), array(['icc'], dtype='<U5'), array(['icc'], dtype='<U5'), array(['icc'], dtype='<U5'), array(['icc'], dtype='<U5'), array(['icc'], dtype='<U5'), array(['icc'], dtype='<U5'), array(['icc'], dtype='<U5'), array(['icc'], dtype='<U5'), array(['icc'], dtype='<U5'), array(['icc'], dtype='<U5'), array(['icc'], dtype='<U5'), array(['icc'], dtype='<U5'), array(['icc'], dtype='<U5'), array(['icc'], dtype='<U5'), array(['icc'], dtype='<U5'), array(['icc'], dtype='<U5'), array(['icc'], dtype='<U5'), array(['icc'], dtype='<U5'), array(['icc'], dtype='<U5'), array(['icc'], dtype='<U5'), array(['icc'], dtype='<U5'), array(['icc'], dtype='<U5'), array(['icc'], dtype='<U5'), array(['icc'], dtype='<U5'), array(['icc'], dtype='<U5'), array(['icc'], dtype='<U5'), array(['icc'], dtype='<U5'), array(['icc'], dtype='<U5'), array(['icc'], dtype='<U5'), array(['icc'], dtype='<U5'), array(['icc'], dtype='<U5'), array(['icc'], dtype='<U5'), array(['icc'], dtype='<U5'), array(['icc'], dtype='<U5'), array(['icc'], dtype='<U5'), array(['icc'], dtype='<U5'), array(['icc'], dtype='<U5'), array(['icc'], dtype='<U5'), array(['icc'], dtype='<U5'), array(['icc'], dtype='<U5'), array(['icc'], dtype='<U5'), array(['icc'], dtype='<U5'), array(['icc'], dtype='<U5'), array(['icc'], dtype='<U5'), array(['icc'], dtype='<U5'), array(['icc'], dtype='<U5'), array(['icc'], dtype='<U5'), array(['icc'], dtype='<U5'), array(['icc'], dtype='<U5'), array(['icc'], dtype='<U5'), array(['icc'], dtype='<U5'), array(['icc'], dtype='<U5'), array(['clang'], dtype='<U5'), array(['icc'], dtype='<U5'), array(['icc'], dtype='<U5'), array(['icc'], dtype='<U5'), array(['gcc'], dtype='<U5'), array(['icc'], dtype='<U5'), array(['clang'], dtype='<U5'), array(['icc'], dtype='<U5'), array(['icc'], dtype='<U5'), array(['icc'], dtype='<U5'), array(['icc'], dtype='<U5'), array(['icc'], dtype='<U5'), array(['icc'], dtype='<U5'), array(['icc'], dtype='<U5'), array(['icc'], dtype='<U5'), array(['icc'], dtype='<U5'), array(['icc'], dtype='<U5'), array(['icc'], dtype='<U5'), array(['icc'], dtype='<U5'), array(['icc'], dtype='<U5'), array(['icc'], dtype='<U5'), array(['icc'], dtype='<U5'), array(['icc'], dtype='<U5'), array(['icc'], dtype='<U5'), array(['icc'], dtype='<U5'), array(['gcc'], dtype='<U5'), array(['icc'], dtype='<U5'), array(['icc'], dtype='<U5'), array(['icc'], dtype='<U5'), array(['icc'], dtype='<U5'), array(['icc'], dtype='<U5'), array(['icc'], dtype='<U5'), array(['icc'], dtype='<U5'), array(['icc'], dtype='<U5'), array(['icc'], dtype='<U5'), array(['clang'], dtype='<U5'), array(['icc'], dtype='<U5'), array(['icc'], dtype='<U5'), array(['icc'], dtype='<U5'), array(['icc'], dtype='<U5'), array(['icc'], dtype='<U5'), array(['icc'], dtype='<U5'), array(['icc'], dtype='<U5'), array(['icc'], dtype='<U5'), array(['icc'], dtype='<U5'), array(['icc'], dtype='<U5'), array(['icc'], dtype='<U5'), array(['icc'], dtype='<U5'), array(['icc'], dtype='<U5'), array(['icc'], dtype='<U5'), array(['icc'], dtype='<U5'), array(['icc'], dtype='<U5'), array(['icc'], dtype='<U5'), array(['icc'], dtype='<U5'), array(['icc'], dtype='<U5'), array(['icc'], dtype='<U5'), array(['icc'], dtype='<U5'), array(['icc'], dtype='<U5'), array(['icc'], dtype='<U5'), array(['icc'], dtype='<U5'), array(['icc'], dtype='<U5'), array(['icc'], dtype='<U5'), array(['icc'], dtype='<U5'), array(['icc'], dtype='<U5'), array(['icc'], dtype='<U5'), array(['icc'], dtype='<U5'), array(['icc'], dtype='<U5'), array(['clang'], dtype='<U5'), array(['icc'], dtype='<U5'), array(['icc'], dtype='<U5'), array(['icc'], dtype='<U5'), array(['icc'], dtype='<U5'), array(['icc'], dtype='<U5'), array(['icc'], dtype='<U5'), array(['icc'], dtype='<U5'), array(['icc'], dtype='<U5'), array(['icc'], dtype='<U5'), array(['icc'], dtype='<U5'), array(['icc'], dtype='<U5'), array(['gcc'], dtype='<U5'), array(['icc'], dtype='<U5'), array(['gcc'], dtype='<U5'), array(['icc'], dtype='<U5'), array(['icc'], dtype='<U5'), array(['gcc'], dtype='<U5'), array(['icc'], dtype='<U5'), array(['icc'], dtype='<U5'), array(['icc'], dtype='<U5'), array(['icc'], dtype='<U5'), array(['icc'], dtype='<U5'), array(['clang'], dtype='<U5'), array(['icc'], dtype='<U5'), array(['icc'], dtype='<U5'), array(['icc'], dtype='<U5'), array(['icc'], dtype='<U5'), array(['icc'], dtype='<U5'), array(['icc'], dtype='<U5'), array(['icc'], dtype='<U5'), array(['icc'], dtype='<U5'), array(['clang'], dtype='<U5'), array(['icc'], dtype='<U5'), array(['icc'], dtype='<U5'), array(['icc'], dtype='<U5'), array(['icc'], dtype='<U5'), array(['icc'], dtype='<U5'), array(['icc'], dtype='<U5'), array(['icc'], dtype='<U5'), array(['icc'], dtype='<U5'), array(['icc'], dtype='<U5'), array(['icc'], dtype='<U5'), array(['icc'], dtype='<U5'), array(['icc'], dtype='<U5'), array(['clang'], dtype='<U5'), array(['icc'], dtype='<U5'), array(['icc'], dtype='<U5'), array(['icc'], dtype='<U5'), array(['icc'], dtype='<U5'), array(['gcc'], dtype='<U5'), array(['icc'], dtype='<U5'), array(['icc'], dtype='<U5'), array(['icc'], dtype='<U5'), array(['icc'], dtype='<U5'), array(['icc'], dtype='<U5'), array(['icc'], dtype='<U5'), array(['icc'], dtype='<U5'), array(['icc'], dtype='<U5'), array(['icc'], dtype='<U5'), array(['icc'], dtype='<U5'), array(['icc'], dtype='<U5'), array(['icc'], dtype='<U5'), array(['icc'], dtype='<U5'), array(['icc'], dtype='<U5'), array(['icc'], dtype='<U5'), array(['icc'], dtype='<U5'), array(['icc'], dtype='<U5'), array(['icc'], dtype='<U5'), array(['icc'], dtype='<U5'), array(['icc'], dtype='<U5'), array(['icc'], dtype='<U5'), array(['icc'], dtype='<U5'), array(['icc'], dtype='<U5'), array(['icc'], dtype='<U5'), array(['icc'], dtype='<U5'), array(['icc'], dtype='<U5'), array(['icc'], dtype='<U5'), array(['icc'], dtype='<U5'), array(['icc'], dtype='<U5'), array(['clang'], dtype='<U5'), array(['icc'], dtype='<U5'), array(['icc'], dtype='<U5'), array(['icc'], dtype='<U5'), array(['icc'], dtype='<U5'), array(['clang'], dtype='<U5'), array(['gcc'], dtype='<U5'), array(['icc'], dtype='<U5'), array(['icc'], dtype='<U5'), array(['icc'], dtype='<U5'), array(['icc'], dtype='<U5'), array(['icc'], dtype='<U5'), array(['icc'], dtype='<U5'), array(['icc'], dtype='<U5'), array(['icc'], dtype='<U5'), array(['icc'], dtype='<U5'), array(['icc'], dtype='<U5'), array(['icc'], dtype='<U5'), array(['icc'], dtype='<U5'), array(['icc'], dtype='<U5'), array(['icc'], dtype='<U5'), array(['icc'], dtype='<U5'), array(['icc'], dtype='<U5'), array(['clang'], dtype='<U5'), array(['icc'], dtype='<U5'), array(['icc'], dtype='<U5'), array(['icc'], dtype='<U5'), array(['icc'], dtype='<U5'), array(['icc'], dtype='<U5'), array(['icc'], dtype='<U5'), array(['icc'], dtype='<U5'), array(['icc'], dtype='<U5'), array(['icc'], dtype='<U5'), array(['icc'], dtype='<U5'), array(['icc'], dtype='<U5'), array(['icc'], dtype='<U5'), array(['icc'], dtype='<U5'), array(['icc'], dtype='<U5'), array(['icc'], dtype='<U5'), array(['icc'], dtype='<U5'), array(['icc'], dtype='<U5'), array(['icc'], dtype='<U5'), array(['icc'], dtype='<U5'), array(['icc'], dtype='<U5'), array(['icc'], dtype='<U5'), array(['icc'], dtype='<U5'), array(['icc'], dtype='<U5'), array(['icc'], dtype='<U5'), array(['icc'], dtype='<U5'), array(['icc'], dtype='<U5'), array(['icc'], dtype='<U5'), array(['icc'], dtype='<U5'), array(['icc'], dtype='<U5'), array(['icc'], dtype='<U5'), array(['icc'], dtype='<U5'), array(['icc'], dtype='<U5'), array(['icc'], dtype='<U5'), array(['icc'], dtype='<U5'), array(['icc'], dtype='<U5'), array(['icc'], dtype='<U5'), array(['clang'], dtype='<U5'), array(['clang'], dtype='<U5'), array(['icc'], dtype='<U5'), array(['icc'], dtype='<U5'), array(['icc'], dtype='<U5'), array(['icc'], dtype='<U5'), array(['icc'], dtype='<U5'), array(['icc'], dtype='<U5'), array(['icc'], dtype='<U5'), array(['icc'], dtype='<U5'), array(['icc'], dtype='<U5'), array(['icc'], dtype='<U5'), array(['icc'], dtype='<U5'), array(['icc'], dtype='<U5'), array(['icc'], dtype='<U5'), array(['icc'], dtype='<U5'), array(['icc'], dtype='<U5'), array(['icc'], dtype='<U5'), array(['icc'], dtype='<U5'), array(['icc'], dtype='<U5'), array(['icc'], dtype='<U5'), array(['icc'], dtype='<U5'), array(['icc'], dtype='<U5'), array(['clang'], dtype='<U5'), array(['icc'], dtype='<U5'), array(['icc'], dtype='<U5'), array(['icc'], dtype='<U5'), array(['icc'], dtype='<U5'), array(['icc'], dtype='<U5'), array(['icc'], dtype='<U5'), array(['icc'], dtype='<U5'), array(['icc'], dtype='<U5'), array(['icc'], dtype='<U5'), array(['icc'], dtype='<U5'), array(['icc'], dtype='<U5'), array(['icc'], dtype='<U5'), array(['icc'], dtype='<U5'), array(['icc'], dtype='<U5'), array(['icc'], dtype='<U5'), array(['icc'], dtype='<U5'), array(['icc'], dtype='<U5'), array(['icc'], dtype='<U5'), array(['icc'], dtype='<U5'), array(['icc'], dtype='<U5'), array(['icc'], dtype='<U5'), array(['gcc'], dtype='<U5'), array(['icc'], dtype='<U5'), array(['icc'], dtype='<U5'), array(['icc'], dtype='<U5'), array(['icc'], dtype='<U5'), array(['icc'], dtype='<U5'), array(['icc'], dtype='<U5'), array(['icc'], dtype='<U5'), array(['icc'], dtype='<U5'), array(['icc'], dtype='<U5'), array(['clang'], dtype='<U5'), array(['icc'], dtype='<U5'), array(['icc'], dtype='<U5'), array(['icc'], dtype='<U5'), array(['icc'], dtype='<U5'), array(['icc'], dtype='<U5'), array(['icc'], dtype='<U5'), array(['icc'], dtype='<U5'), array(['icc'], dtype='<U5'), array(['icc'], dtype='<U5'), array(['icc'], dtype='<U5'), array(['icc'], dtype='<U5'), array(['icc'], dtype='<U5'), array(['icc'], dtype='<U5'), array(['icc'], dtype='<U5'), array(['icc'], dtype='<U5'), array(['icc'], dtype='<U5'), array(['icc'], dtype='<U5'), array(['icc'], dtype='<U5'), array(['icc'], dtype='<U5'), array(['icc'], dtype='<U5'), array(['icc'], dtype='<U5'), array(['icc'], dtype='<U5'), array(['icc'], dtype='<U5'), array(['icc'], dtype='<U5'), array(['icc'], dtype='<U5'), array(['icc'], dtype='<U5'), array(['gcc'], dtype='<U5'), array(['icc'], dtype='<U5'), array(['icc'], dtype='<U5'), array(['icc'], dtype='<U5'), array(['icc'], dtype='<U5'), array(['icc'], dtype='<U5'), array(['icc'], dtype='<U5'), array(['icc'], dtype='<U5'), array(['icc'], dtype='<U5'), array(['icc'], dtype='<U5'), array(['icc'], dtype='<U5'), array(['icc'], dtype='<U5'), array(['icc'], dtype='<U5'), array(['icc'], dtype='<U5'), array(['icc'], dtype='<U5'), array(['icc'], dtype='<U5'), array(['icc'], dtype='<U5'), array(['icc'], dtype='<U5'), array(['icc'], dtype='<U5'), array(['icc'], dtype='<U5'), array(['icc'], dtype='<U5'), array(['icc'], dtype='<U5'), array(['icc'], dtype='<U5'), array(['icc'], dtype='<U5'), array(['gcc'], dtype='<U5'), array(['gcc'], dtype='<U5'), array(['icc'], dtype='<U5'), array(['icc'], dtype='<U5'), array(['icc'], dtype='<U5'), array(['icc'], dtype='<U5'), array(['icc'], dtype='<U5'), array(['icc'], dtype='<U5'), array(['icc'], dtype='<U5'), array(['icc'], dtype='<U5'), array(['icc'], dtype='<U5'), array(['icc'], dtype='<U5'), array(['icc'], dtype='<U5'), array(['icc'], dtype='<U5'), array(['icc'], dtype='<U5'), array(['icc'], dtype='<U5'), array(['icc'], dtype='<U5'), array(['icc'], dtype='<U5'), array(['icc'], dtype='<U5'), array(['icc'], dtype='<U5'), array(['icc'], dtype='<U5'), array(['gcc'], dtype='<U5'), array(['icc'], dtype='<U5'), array(['icc'], dtype='<U5'), array(['icc'], dtype='<U5'), array(['icc'], dtype='<U5'), array(['icc'], dtype='<U5'), array(['icc'], dtype='<U5'), array(['icc'], dtype='<U5'), array(['icc'], dtype='<U5'), array(['icc'], dtype='<U5'), array(['icc'], dtype='<U5'), array(['icc'], dtype='<U5'), array(['icc'], dtype='<U5'), array(['icc'], dtype='<U5'), array(['icc'], dtype='<U5'), array(['icc'], dtype='<U5'), array(['icc'], dtype='<U5'), array(['icc'], dtype='<U5'), array(['icc'], dtype='<U5'), array(['icc'], dtype='<U5'), array(['icc'], dtype='<U5'), array(['icc'], dtype='<U5'), array(['icc'], dtype='<U5'), array(['icc'], dtype='<U5'), array(['icc'], dtype='<U5'), array(['icc'], dtype='<U5'), array(['icc'], dtype='<U5'), array(['icc'], dtype='<U5'), array(['clang'], dtype='<U5'), array(['icc'], dtype='<U5'), array(['clang'], dtype='<U5'), array(['clang'], dtype='<U5'), array(['icc'], dtype='<U5'), array(['icc'], dtype='<U5'), array(['icc'], dtype='<U5'), array(['icc'], dtype='<U5'), array(['clang'], dtype='<U5'), array(['clang'], dtype='<U5'), array(['icc'], dtype='<U5'), array(['icc'], dtype='<U5'), array(['icc'], dtype='<U5'), array(['icc'], dtype='<U5'), array(['icc'], dtype='<U5'), array(['icc'], dtype='<U5'), array(['icc'], dtype='<U5'), array(['icc'], dtype='<U5'), array(['icc'], dtype='<U5'), array(['icc'], dtype='<U5'), array(['icc'], dtype='<U5'), array(['icc'], dtype='<U5'), array(['icc'], dtype='<U5'), array(['icc'], dtype='<U5'), array(['clang'], dtype='<U5'), array(['icc'], dtype='<U5'), array(['icc'], dtype='<U5'), array(['gcc'], dtype='<U5'), array(['icc'], dtype='<U5'), array(['icc'], dtype='<U5'), array(['icc'], dtype='<U5'), array(['icc'], dtype='<U5'), array(['icc'], dtype='<U5'), array(['icc'], dtype='<U5'), array(['icc'], dtype='<U5'), array(['clang'], dtype='<U5'), array(['icc'], dtype='<U5'), array(['clang'], dtype='<U5'), array(['icc'], dtype='<U5'), array(['icc'], dtype='<U5'), array(['icc'], dtype='<U5'), array(['icc'], dtype='<U5'), array(['icc'], dtype='<U5'), array(['icc'], dtype='<U5'), array(['icc'], dtype='<U5'), array(['icc'], dtype='<U5'), array(['icc'], dtype='<U5'), array(['icc'], dtype='<U5'), array(['icc'], dtype='<U5'), array(['icc'], dtype='<U5'), array(['icc'], dtype='<U5'), array(['icc'], dtype='<U5'), array(['icc'], dtype='<U5'), array(['icc'], dtype='<U5'), array(['icc'], dtype='<U5'), array(['icc'], dtype='<U5'), array(['icc'], dtype='<U5'), array(['icc'], dtype='<U5'), array(['icc'], dtype='<U5'), array(['icc'], dtype='<U5'), array(['icc'], dtype='<U5'), array(['icc'], dtype='<U5'), array(['icc'], dtype='<U5'), array(['icc'], dtype='<U5'), array(['icc'], dtype='<U5'), array(['icc'], dtype='<U5'), array(['icc'], dtype='<U5'), array(['icc'], dtype='<U5'), array(['icc'], dtype='<U5'), array(['icc'], dtype='<U5'), array(['icc'], dtype='<U5'), array(['icc'], dtype='<U5'), array(['icc'], dtype='<U5'), array(['icc'], dtype='<U5'), array(['icc'], dtype='<U5'), array(['icc'], dtype='<U5'), array(['icc'], dtype='<U5'), array(['icc'], dtype='<U5'), array(['icc'], dtype='<U5'), array(['icc'], dtype='<U5'), array(['icc'], dtype='<U5'), array(['icc'], dtype='<U5'), array(['icc'], dtype='<U5'), array(['icc'], dtype='<U5'), array(['icc'], dtype='<U5'), array(['icc'], dtype='<U5'), array(['icc'], dtype='<U5'), array(['icc'], dtype='<U5'), array(['icc'], dtype='<U5'), array(['icc'], dtype='<U5'), array(['icc'], dtype='<U5'), array(['gcc'], dtype='<U5'), array(['icc'], dtype='<U5'), array(['icc'], dtype='<U5'), array(['icc'], dtype='<U5'), array(['icc'], dtype='<U5'), array(['icc'], dtype='<U5'), array(['icc'], dtype='<U5'), array(['icc'], dtype='<U5'), array(['icc'], dtype='<U5'), array(['icc'], dtype='<U5'), array(['icc'], dtype='<U5'), array(['icc'], dtype='<U5'), array(['icc'], dtype='<U5'), array(['icc'], dtype='<U5'), array(['icc'], dtype='<U5'), array(['icc'], dtype='<U5'), array(['icc'], dtype='<U5'), array(['icc'], dtype='<U5'), array(['icc'], dtype='<U5'), array(['icc'], dtype='<U5'), array(['icc'], dtype='<U5'), array(['gcc'], dtype='<U5'), array(['icc'], dtype='<U5'), array(['icc'], dtype='<U5'), array(['icc'], dtype='<U5'), array(['icc'], dtype='<U5'), array(['icc'], dtype='<U5'), array(['icc'], dtype='<U5'), array(['icc'], dtype='<U5'), array(['icc'], dtype='<U5'), array(['gcc'], dtype='<U5'), array(['icc'], dtype='<U5'), array(['icc'], dtype='<U5'), array(['icc'], dtype='<U5'), array(['icc'], dtype='<U5'), array(['icc'], dtype='<U5'), array(['icc'], dtype='<U5'), array(['icc'], dtype='<U5'), array(['icc'], dtype='<U5'), array(['icc'], dtype='<U5'), array(['icc'], dtype='<U5'), array(['icc'], dtype='<U5'), array(['icc'], dtype='<U5'), array(['icc'], dtype='<U5'), array(['icc'], dtype='<U5'), array(['icc'], dtype='<U5'), array(['icc'], dtype='<U5'), array(['icc'], dtype='<U5'), array(['gcc'], dtype='<U5'), array(['icc'], dtype='<U5'), array(['icc'], dtype='<U5'), array(['icc'], dtype='<U5'), array(['icc'], dtype='<U5'), array(['icc'], dtype='<U5'), array(['icc'], dtype='<U5'), array(['icc'], dtype='<U5'), array(['icc'], dtype='<U5'), array(['icc'], dtype='<U5'), array(['icc'], dtype='<U5'), array(['icc'], dtype='<U5'), array(['clang'], dtype='<U5'), array(['clang'], dtype='<U5'), array(['icc'], dtype='<U5'), array(['icc'], dtype='<U5'), array(['icc'], dtype='<U5'), array(['icc'], dtype='<U5'), array(['icc'], dtype='<U5'), array(['icc'], dtype='<U5'), array(['icc'], dtype='<U5'), array(['icc'], dtype='<U5'), array(['icc'], dtype='<U5'), array(['icc'], dtype='<U5'), array(['icc'], dtype='<U5'), array(['icc'], dtype='<U5'), array(['icc'], dtype='<U5'), array(['clang'], dtype='<U5'), array(['icc'], dtype='<U5'), array(['icc'], dtype='<U5'), array(['icc'], dtype='<U5'), array(['icc'], dtype='<U5'), array(['icc'], dtype='<U5'), array(['icc'], dtype='<U5'), array(['icc'], dtype='<U5'), array(['icc'], dtype='<U5'), array(['gcc'], dtype='<U5'), array(['icc'], dtype='<U5'), array(['icc'], dtype='<U5'), array(['icc'], dtype='<U5'), array(['icc'], dtype='<U5'), array(['icc'], dtype='<U5'), array(['icc'], dtype='<U5'), array(['icc'], dtype='<U5'), array(['icc'], dtype='<U5'), array(['icc'], dtype='<U5'), array(['clang'], dtype='<U5'), array(['icc'], dtype='<U5'), array(['icc'], dtype='<U5'), array(['icc'], dtype='<U5'), array(['icc'], dtype='<U5'), array(['icc'], dtype='<U5'), array(['icc'], dtype='<U5'), array(['icc'], dtype='<U5'), array(['icc'], dtype='<U5'), array(['icc'], dtype='<U5'), array(['icc'], dtype='<U5'), array(['icc'], dtype='<U5'), array(['icc'], dtype='<U5'), array(['icc'], dtype='<U5'), array(['icc'], dtype='<U5'), array(['icc'], dtype='<U5'), array(['icc'], dtype='<U5'), array(['icc'], dtype='<U5'), array(['icc'], dtype='<U5'), array(['icc'], dtype='<U5'), array(['icc'], dtype='<U5'), array(['icc'], dtype='<U5'), array(['icc'], dtype='<U5'), array(['icc'], dtype='<U5'), array(['icc'], dtype='<U5'), array(['icc'], dtype='<U5'), array(['icc'], dtype='<U5'), array(['icc'], dtype='<U5'), array(['icc'], dtype='<U5'), array(['icc'], dtype='<U5'), array(['icc'], dtype='<U5'), array(['icc'], dtype='<U5'), array(['icc'], dtype='<U5'), array(['icc'], dtype='<U5'), array(['icc'], dtype='<U5'), array(['icc'], dtype='<U5'), array(['icc'], dtype='<U5'), array(['icc'], dtype='<U5'), array(['icc'], dtype='<U5'), array(['icc'], dtype='<U5'), array(['icc'], dtype='<U5'), array(['icc'], dtype='<U5'), array(['icc'], dtype='<U5'), array(['icc'], dtype='<U5'), array(['icc'], dtype='<U5'), array(['icc'], dtype='<U5'), array(['icc'], dtype='<U5'), array(['icc'], dtype='<U5'), array(['icc'], dtype='<U5'), array(['icc'], dtype='<U5'), array(['icc'], dtype='<U5'), array(['icc'], dtype='<U5'), array(['icc'], dtype='<U5'), array(['icc'], dtype='<U5'), array(['icc'], dtype='<U5'), array(['icc'], dtype='<U5'), array(['icc'], dtype='<U5'), array(['icc'], dtype='<U5'), array(['gcc'], dtype='<U5'), array(['icc'], dtype='<U5'), array(['icc'], dtype='<U5'), array(['icc'], dtype='<U5'), array(['icc'], dtype='<U5'), array(['icc'], dtype='<U5'), array(['icc'], dtype='<U5'), array(['icc'], dtype='<U5'), array(['icc'], dtype='<U5'), array(['icc'], dtype='<U5'), array(['icc'], dtype='<U5'), array(['icc'], dtype='<U5'), array(['icc'], dtype='<U5'), array(['icc'], dtype='<U5'), array(['icc'], dtype='<U5'), array(['icc'], dtype='<U5'), array(['icc'], dtype='<U5'), array(['gcc'], dtype='<U5'), array(['icc'], dtype='<U5'), array(['icc'], dtype='<U5'), array(['icc'], dtype='<U5'), array(['icc'], dtype='<U5'), array(['icc'], dtype='<U5'), array(['icc'], dtype='<U5'), array(['icc'], dtype='<U5'), array(['icc'], dtype='<U5'), array(['icc'], dtype='<U5'), array(['icc'], dtype='<U5'), array(['icc'], dtype='<U5'), array(['icc'], dtype='<U5'), array(['icc'], dtype='<U5'), array(['icc'], dtype='<U5'), array(['icc'], dtype='<U5'), array(['icc'], dtype='<U5'), array(['icc'], dtype='<U5'), array(['icc'], dtype='<U5'), array(['icc'], dtype='<U5'), array(['icc'], dtype='<U5'), array(['icc'], dtype='<U5'), array(['clang'], dtype='<U5'), array(['clang'], dtype='<U5'), array(['icc'], dtype='<U5'), array(['icc'], dtype='<U5'), array(['icc'], dtype='<U5'), array(['icc'], dtype='<U5'), array(['icc'], dtype='<U5'), array(['icc'], dtype='<U5'), array(['icc'], dtype='<U5'), array(['icc'], dtype='<U5'), array(['icc'], dtype='<U5'), array(['icc'], dtype='<U5'), array(['icc'], dtype='<U5'), array(['icc'], dtype='<U5'), array(['icc'], dtype='<U5'), array(['icc'], dtype='<U5'), array(['icc'], dtype='<U5'), array(['icc'], dtype='<U5'), array(['icc'], dtype='<U5'), array(['icc'], dtype='<U5'), array(['icc'], dtype='<U5'), array(['icc'], dtype='<U5'), array(['icc'], dtype='<U5'), array(['icc'], dtype='<U5'), array(['clang'], dtype='<U5'), array(['icc'], dtype='<U5'), array(['icc'], dtype='<U5'), array(['icc'], dtype='<U5'), array(['icc'], dtype='<U5'), array(['icc'], dtype='<U5'), array(['icc'], dtype='<U5'), array(['icc'], dtype='<U5'), array(['icc'], dtype='<U5'), array(['icc'], dtype='<U5'), array(['icc'], dtype='<U5'), array(['icc'], dtype='<U5'), array(['icc'], dtype='<U5'), array(['icc'], dtype='<U5'), array(['icc'], dtype='<U5'), array(['icc'], dtype='<U5'), array(['icc'], dtype='<U5'), array(['icc'], dtype='<U5'), array(['icc'], dtype='<U5'), array(['icc'], dtype='<U5'), array(['clang'], dtype='<U5'), array(['icc'], dtype='<U5'), array(['icc'], dtype='<U5'), array(['clang'], dtype='<U5'), array(['icc'], dtype='<U5'), array(['icc'], dtype='<U5'), array(['icc'], dtype='<U5'), array(['icc'], dtype='<U5'), array(['clang'], dtype='<U5'), array(['clang'], dtype='<U5'), array(['icc'], dtype='<U5'), array(['icc'], dtype='<U5'), array(['icc'], dtype='<U5'), array(['icc'], dtype='<U5'), array(['icc'], dtype='<U5'), array(['icc'], dtype='<U5'), array(['icc'], dtype='<U5'), array(['icc'], dtype='<U5'), array(['icc'], dtype='<U5'), array(['icc'], dtype='<U5'), array(['icc'], dtype='<U5'), array(['gcc'], dtype='<U5'), array(['icc'], dtype='<U5'), array(['gcc'], dtype='<U5'), array(['icc'], dtype='<U5'), array(['icc'], dtype='<U5'), array(['icc'], dtype='<U5'), array(['icc'], dtype='<U5'), array(['icc'], dtype='<U5'), array(['icc'], dtype='<U5'), array(['icc'], dtype='<U5'), array(['icc'], dtype='<U5'), array(['icc'], dtype='<U5'), array(['icc'], dtype='<U5'), array(['icc'], dtype='<U5'), array(['clang'], dtype='<U5'), array(['icc'], dtype='<U5'), array(['icc'], dtype='<U5'), array(['icc'], dtype='<U5'), array(['icc'], dtype='<U5'), array(['icc'], dtype='<U5'), array(['icc'], dtype='<U5'), array(['icc'], dtype='<U5'), array(['icc'], dtype='<U5'), array(['icc'], dtype='<U5'), array(['icc'], dtype='<U5'), array(['icc'], dtype='<U5'), array(['icc'], dtype='<U5'), array(['icc'], dtype='<U5'), array(['gcc'], dtype='<U5'), array(['icc'], dtype='<U5'), array(['icc'], dtype='<U5'), array(['icc'], dtype='<U5'), array(['clang'], dtype='<U5'), array(['icc'], dtype='<U5'), array(['icc'], dtype='<U5'), array(['icc'], dtype='<U5'), array(['icc'], dtype='<U5'), array(['icc'], dtype='<U5'), array(['icc'], dtype='<U5'), array(['icc'], dtype='<U5'), array(['icc'], dtype='<U5'), array(['icc'], dtype='<U5'), array(['icc'], dtype='<U5'), array(['icc'], dtype='<U5'), array(['icc'], dtype='<U5'), array(['icc'], dtype='<U5'), array(['icc'], dtype='<U5'), array(['icc'], dtype='<U5'), array(['icc'], dtype='<U5'), array(['icc'], dtype='<U5'), array(['icc'], dtype='<U5'), array(['icc'], dtype='<U5'), array(['icc'], dtype='<U5'), array(['icc'], dtype='<U5'), array(['icc'], dtype='<U5'), array(['icc'], dtype='<U5'), array(['icc'], dtype='<U5'), array(['icc'], dtype='<U5'), array(['icc'], dtype='<U5'), array(['icc'], dtype='<U5'), array(['icc'], dtype='<U5'), array(['icc'], dtype='<U5'), array(['icc'], dtype='<U5'), array(['icc'], dtype='<U5'), array(['icc'], dtype='<U5'), array(['icc'], dtype='<U5'), array(['icc'], dtype='<U5'), array(['icc'], dtype='<U5'), array(['icc'], dtype='<U5'), array(['icc'], dtype='<U5'), array(['icc'], dtype='<U5'), array(['icc'], dtype='<U5'), array(['icc'], dtype='<U5'), array(['icc'], dtype='<U5'), array(['icc'], dtype='<U5'), array(['icc'], dtype='<U5'), array(['icc'], dtype='<U5'), array(['icc'], dtype='<U5'), array(['icc'], dtype='<U5'), array(['icc'], dtype='<U5'), array(['icc'], dtype='<U5'), array(['icc'], dtype='<U5'), array(['icc'], dtype='<U5'), array(['icc'], dtype='<U5'), array(['icc'], dtype='<U5'), array(['clang'], dtype='<U5'), array(['icc'], dtype='<U5'), array(['icc'], dtype='<U5'), array(['icc'], dtype='<U5'), array(['icc'], dtype='<U5'), array(['icc'], dtype='<U5'), array(['icc'], dtype='<U5'), array(['icc'], dtype='<U5'), array(['gcc'], dtype='<U5'), array(['clang'], dtype='<U5'), array(['icc'], dtype='<U5'), array(['icc'], dtype='<U5'), array(['icc'], dtype='<U5'), array(['icc'], dtype='<U5'), array(['icc'], dtype='<U5'), array(['icc'], dtype='<U5'), array(['icc'], dtype='<U5'), array(['icc'], dtype='<U5'), array(['icc'], dtype='<U5'), array(['icc'], dtype='<U5'), array(['icc'], dtype='<U5'), array(['icc'], dtype='<U5'), array(['icc'], dtype='<U5'), array(['icc'], dtype='<U5'), array(['icc'], dtype='<U5'), array(['icc'], dtype='<U5'), array(['icc'], dtype='<U5'), array(['icc'], dtype='<U5'), array(['icc'], dtype='<U5'), array(['clang'], dtype='<U5'), array(['icc'], dtype='<U5'), array(['icc'], dtype='<U5'), array(['icc'], dtype='<U5'), array(['icc'], dtype='<U5'), array(['icc'], dtype='<U5'), array(['icc'], dtype='<U5'), array(['icc'], dtype='<U5'), array(['icc'], dtype='<U5'), array(['icc'], dtype='<U5'), array(['icc'], dtype='<U5'), array(['icc'], dtype='<U5'), array(['icc'], dtype='<U5'), array(['icc'], dtype='<U5'), array(['icc'], dtype='<U5'), array(['icc'], dtype='<U5'), array(['icc'], dtype='<U5'), array(['icc'], dtype='<U5'), array(['clang'], dtype='<U5'), array(['icc'], dtype='<U5'), array(['icc'], dtype='<U5'), array(['icc'], dtype='<U5'), array(['icc'], dtype='<U5'), array(['icc'], dtype='<U5'), array(['icc'], dtype='<U5'), array(['icc'], dtype='<U5'), array(['icc'], dtype='<U5'), array(['icc'], dtype='<U5'), array(['icc'], dtype='<U5'), array(['icc'], dtype='<U5'), array(['icc'], dtype='<U5'), array(['icc'], dtype='<U5'), array(['icc'], dtype='<U5'), array(['icc'], dtype='<U5'), array(['icc'], dtype='<U5'), array(['icc'], dtype='<U5'), array(['gcc'], dtype='<U5'), array(['icc'], dtype='<U5'), array(['icc'], dtype='<U5'), array(['icc'], dtype='<U5'), array(['icc'], dtype='<U5'), array(['clang'], dtype='<U5'), array(['icc'], dtype='<U5'), array(['icc'], dtype='<U5'), array(['icc'], dtype='<U5'), array(['icc'], dtype='<U5'), array(['icc'], dtype='<U5'), array(['icc'], dtype='<U5'), array(['icc'], dtype='<U5'), array(['icc'], dtype='<U5'), array(['icc'], dtype='<U5'), array(['icc'], dtype='<U5'), array(['icc'], dtype='<U5'), array(['icc'], dtype='<U5'), array(['icc'], dtype='<U5'), array(['icc'], dtype='<U5'), array(['icc'], dtype='<U5'), array(['icc'], dtype='<U5'), array(['clang'], dtype='<U5'), array(['icc'], dtype='<U5'), array(['icc'], dtype='<U5'), array(['icc'], dtype='<U5'), array(['icc'], dtype='<U5'), array(['icc'], dtype='<U5'), array(['icc'], dtype='<U5'), array(['icc'], dtype='<U5'), array(['icc'], dtype='<U5'), array(['icc'], dtype='<U5'), array(['icc'], dtype='<U5'), array(['icc'], dtype='<U5'), array(['icc'], dtype='<U5'), array(['icc'], dtype='<U5'), array(['icc'], dtype='<U5'), array(['icc'], dtype='<U5'), array(['icc'], dtype='<U5'), array(['icc'], dtype='<U5'), array(['icc'], dtype='<U5'), array(['icc'], dtype='<U5'), array(['icc'], dtype='<U5'), array(['clang'], dtype='<U5'), array(['icc'], dtype='<U5'), array(['icc'], dtype='<U5'), array(['icc'], dtype='<U5'), array(['icc'], dtype='<U5'), array(['icc'], dtype='<U5'), array(['icc'], dtype='<U5'), array(['icc'], dtype='<U5'), array(['icc'], dtype='<U5'), array(['icc'], dtype='<U5'), array(['clang'], dtype='<U5'), array(['icc'], dtype='<U5'), array(['icc'], dtype='<U5'), array(['icc'], dtype='<U5'), array(['icc'], dtype='<U5'), array(['icc'], dtype='<U5'), array(['icc'], dtype='<U5'), array(['gcc'], dtype='<U5'), array(['clang'], dtype='<U5'), array(['clang'], dtype='<U5'), array(['gcc'], dtype='<U5'), array(['clang'], dtype='<U5'), array(['gcc'], dtype='<U5'), array(['clang'], dtype='<U5'), array(['icc'], dtype='<U5'), array(['clang'], dtype='<U5'), array(['clang'], dtype='<U5'), array(['clang'], dtype='<U5'), array(['clang'], dtype='<U5'), array(['clang'], dtype='<U5'), array(['clang'], dtype='<U5'), array(['gcc'], dtype='<U5'), array(['gcc'], dtype='<U5'), array(['clang'], dtype='<U5'), array(['clang'], dtype='<U5'), array(['clang'], dtype='<U5'), array(['clang'], dtype='<U5'), array(['clang'], dtype='<U5'), array(['clang'], dtype='<U5'), array(['clang'], dtype='<U5'), array(['clang'], dtype='<U5'), array(['clang'], dtype='<U5'), array(['clang'], dtype='<U5'), array(['clang'], dtype='<U5'), array(['clang'], dtype='<U5'), array(['clang'], dtype='<U5'), array(['gcc'], dtype='<U5'), array(['clang'], dtype='<U5'), array(['clang'], dtype='<U5'), array(['clang'], dtype='<U5'), array(['clang'], dtype='<U5'), array(['clang'], dtype='<U5'), array(['clang'], dtype='<U5'), array(['clang'], dtype='<U5'), array(['clang'], dtype='<U5'), array(['clang'], dtype='<U5'), array(['clang'], dtype='<U5'), array(['clang'], dtype='<U5'), array(['clang'], dtype='<U5'), array(['clang'], dtype='<U5'), array(['clang'], dtype='<U5'), array(['clang'], dtype='<U5'), array(['gcc'], dtype='<U5'), array(['clang'], dtype='<U5'), array(['clang'], dtype='<U5'), array(['clang'], dtype='<U5'), array(['clang'], dtype='<U5'), array(['clang'], dtype='<U5'), array(['clang'], dtype='<U5'), array(['clang'], dtype='<U5'), array(['clang'], dtype='<U5'), array(['clang'], dtype='<U5'), array(['clang'], dtype='<U5'), array(['clang'], dtype='<U5'), array(['clang'], dtype='<U5'), array(['clang'], dtype='<U5'), array(['icc'], dtype='<U5'), array(['clang'], dtype='<U5'), array(['clang'], dtype='<U5'), array(['clang'], dtype='<U5'), array(['clang'], dtype='<U5'), array(['clang'], dtype='<U5'), array(['clang'], dtype='<U5'), array(['clang'], dtype='<U5'), array(['clang'], dtype='<U5'), array(['clang'], dtype='<U5'), array(['clang'], dtype='<U5'), array(['clang'], dtype='<U5'), array(['gcc'], dtype='<U5'), array(['clang'], dtype='<U5'), array(['clang'], dtype='<U5'), array(['clang'], dtype='<U5'), array(['clang'], dtype='<U5'), array(['clang'], dtype='<U5'), array(['clang'], dtype='<U5'), array(['clang'], dtype='<U5'), array(['clang'], dtype='<U5'), array(['gcc'], dtype='<U5'), array(['clang'], dtype='<U5'), array(['clang'], dtype='<U5'), array(['clang'], dtype='<U5'), array(['clang'], dtype='<U5'), array(['clang'], dtype='<U5'), array(['clang'], dtype='<U5'), array(['clang'], dtype='<U5'), array(['clang'], dtype='<U5'), array(['clang'], dtype='<U5'), array(['clang'], dtype='<U5'), array(['clang'], dtype='<U5'), array(['clang'], dtype='<U5'), array(['clang'], dtype='<U5'), array(['clang'], dtype='<U5'), array(['clang'], dtype='<U5'), array(['clang'], dtype='<U5'), array(['clang'], dtype='<U5'), array(['clang'], dtype='<U5'), array(['clang'], dtype='<U5'), array(['clang'], dtype='<U5'), array(['clang'], dtype='<U5'), array(['clang'], dtype='<U5'), array(['clang'], dtype='<U5'), array(['clang'], dtype='<U5'), array(['clang'], dtype='<U5'), array(['clang'], dtype='<U5'), array(['gcc'], dtype='<U5'), array(['icc'], dtype='<U5'), array(['clang'], dtype='<U5'), array(['clang'], dtype='<U5'), array(['clang'], dtype='<U5'), array(['clang'], dtype='<U5'), array(['clang'], dtype='<U5'), array(['clang'], dtype='<U5'), array(['clang'], dtype='<U5'), array(['clang'], dtype='<U5'), array(['clang'], dtype='<U5'), array(['clang'], dtype='<U5'), array(['clang'], dtype='<U5'), array(['clang'], dtype='<U5'), array(['clang'], dtype='<U5'), array(['gcc'], dtype='<U5'), array(['clang'], dtype='<U5'), array(['clang'], dtype='<U5'), array(['clang'], dtype='<U5'), array(['clang'], dtype='<U5'), array(['clang'], dtype='<U5'), array(['clang'], dtype='<U5'), array(['clang'], dtype='<U5'), array(['clang'], dtype='<U5'), array(['clang'], dtype='<U5'), array(['clang'], dtype='<U5'), array(['clang'], dtype='<U5'), array(['clang'], dtype='<U5'), array(['clang'], dtype='<U5'), array(['clang'], dtype='<U5'), array(['clang'], dtype='<U5'), array(['clang'], dtype='<U5'), array(['clang'], dtype='<U5'), array(['clang'], dtype='<U5'), array(['clang'], dtype='<U5'), array(['clang'], dtype='<U5'), array(['clang'], dtype='<U5'), array(['clang'], dtype='<U5'), array(['clang'], dtype='<U5'), array(['clang'], dtype='<U5'), array(['clang'], dtype='<U5'), array(['clang'], dtype='<U5'), array(['clang'], dtype='<U5'), array(['clang'], dtype='<U5'), array(['clang'], dtype='<U5'), array(['clang'], dtype='<U5'), array(['clang'], dtype='<U5'), array(['clang'], dtype='<U5'), array(['clang'], dtype='<U5'), array(['clang'], dtype='<U5'), array(['clang'], dtype='<U5'), array(['clang'], dtype='<U5'), array(['clang'], dtype='<U5'), array(['clang'], dtype='<U5'), array(['clang'], dtype='<U5'), array(['clang'], dtype='<U5'), array(['clang'], dtype='<U5'), array(['clang'], dtype='<U5'), array(['icc'], dtype='<U5'), array(['clang'], dtype='<U5'), array(['clang'], dtype='<U5'), array(['clang'], dtype='<U5'), array(['clang'], dtype='<U5'), array(['clang'], dtype='<U5'), array(['clang'], dtype='<U5'), array(['clang'], dtype='<U5'), array(['clang'], dtype='<U5'), array(['clang'], dtype='<U5'), array(['clang'], dtype='<U5'), array(['clang'], dtype='<U5'), array(['clang'], dtype='<U5'), array(['clang'], dtype='<U5'), array(['clang'], dtype='<U5'), array(['clang'], dtype='<U5'), array(['clang'], dtype='<U5'), array(['clang'], dtype='<U5'), array(['clang'], dtype='<U5'), array(['gcc'], dtype='<U5'), array(['clang'], dtype='<U5'), array(['clang'], dtype='<U5'), array(['icc'], dtype='<U5'), array(['clang'], dtype='<U5'), array(['clang'], dtype='<U5'), array(['clang'], dtype='<U5'), array(['clang'], dtype='<U5'), array(['clang'], dtype='<U5'), array(['clang'], dtype='<U5'), array(['clang'], dtype='<U5'), array(['clang'], dtype='<U5'), array(['clang'], dtype='<U5'), array(['clang'], dtype='<U5'), array(['clang'], dtype='<U5'), array(['clang'], dtype='<U5'), array(['clang'], dtype='<U5'), array(['clang'], dtype='<U5'), array(['clang'], dtype='<U5'), array(['clang'], dtype='<U5'), array(['clang'], dtype='<U5'), array(['clang'], dtype='<U5'), array(['clang'], dtype='<U5'), array(['clang'], dtype='<U5'), array(['clang'], dtype='<U5'), array(['clang'], dtype='<U5'), array(['clang'], dtype='<U5'), array(['clang'], dtype='<U5'), array(['clang'], dtype='<U5'), array(['clang'], dtype='<U5'), array(['clang'], dtype='<U5'), array(['gcc'], dtype='<U5'), array(['clang'], dtype='<U5'), array(['clang'], dtype='<U5'), array(['clang'], dtype='<U5'), array(['clang'], dtype='<U5'), array(['clang'], dtype='<U5'), array(['clang'], dtype='<U5'), array(['clang'], dtype='<U5'), array(['clang'], dtype='<U5'), array(['clang'], dtype='<U5'), array(['gcc'], dtype='<U5'), array(['clang'], dtype='<U5'), array(['clang'], dtype='<U5'), array(['clang'], dtype='<U5'), array(['clang'], dtype='<U5'), array(['clang'], dtype='<U5'), array(['clang'], dtype='<U5'), array(['gcc'], dtype='<U5'), array(['clang'], dtype='<U5'), array(['clang'], dtype='<U5'), array(['clang'], dtype='<U5'), array(['gcc'], dtype='<U5'), array(['clang'], dtype='<U5'), array(['clang'], dtype='<U5'), array(['clang'], dtype='<U5'), array(['clang'], dtype='<U5'), array(['clang'], dtype='<U5'), array(['clang'], dtype='<U5'), array(['clang'], dtype='<U5'), array(['clang'], dtype='<U5'), array(['clang'], dtype='<U5'), array(['clang'], dtype='<U5'), array(['clang'], dtype='<U5'), array(['clang'], dtype='<U5'), array(['clang'], dtype='<U5'), array(['clang'], dtype='<U5'), array(['clang'], dtype='<U5'), array(['clang'], dtype='<U5'), array(['gcc'], dtype='<U5'), array(['clang'], dtype='<U5'), array(['clang'], dtype='<U5'), array(['clang'], dtype='<U5'), array(['clang'], dtype='<U5'), array(['clang'], dtype='<U5'), array(['clang'], dtype='<U5'), array(['clang'], dtype='<U5'), array(['icc'], dtype='<U5'), array(['clang'], dtype='<U5'), array(['clang'], dtype='<U5'), array(['clang'], dtype='<U5'), array(['clang'], dtype='<U5'), array(['clang'], dtype='<U5'), array(['clang'], dtype='<U5'), array(['gcc'], dtype='<U5'), array(['clang'], dtype='<U5'), array(['clang'], dtype='<U5'), array(['icc'], dtype='<U5'), array(['clang'], dtype='<U5'), array(['clang'], dtype='<U5'), array(['gcc'], dtype='<U5'), array(['clang'], dtype='<U5'), array(['clang'], dtype='<U5'), array(['clang'], dtype='<U5'), array(['clang'], dtype='<U5'), array(['clang'], dtype='<U5'), array(['clang'], dtype='<U5'), array(['clang'], dtype='<U5'), array(['gcc'], dtype='<U5'), array(['clang'], dtype='<U5'), array(['clang'], dtype='<U5'), array(['clang'], dtype='<U5'), array(['clang'], dtype='<U5'), array(['clang'], dtype='<U5'), array(['clang'], dtype='<U5'), array(['clang'], dtype='<U5'), array(['clang'], dtype='<U5'), array(['clang'], dtype='<U5'), array(['clang'], dtype='<U5'), array(['clang'], dtype='<U5'), array(['clang'], dtype='<U5'), array(['clang'], dtype='<U5'), array(['clang'], dtype='<U5'), array(['clang'], dtype='<U5'), array(['clang'], dtype='<U5'), array(['clang'], dtype='<U5'), array(['clang'], dtype='<U5'), array(['clang'], dtype='<U5'), array(['clang'], dtype='<U5'), array(['clang'], dtype='<U5'), array(['clang'], dtype='<U5'), array(['clang'], dtype='<U5'), array(['clang'], dtype='<U5'), array(['clang'], dtype='<U5'), array(['clang'], dtype='<U5'), array(['clang'], dtype='<U5'), array(['clang'], dtype='<U5'), array(['clang'], dtype='<U5'), array(['clang'], dtype='<U5'), array(['clang'], dtype='<U5'), array(['clang'], dtype='<U5'), array(['clang'], dtype='<U5'), array(['gcc'], dtype='<U5'), array(['clang'], dtype='<U5'), array(['clang'], dtype='<U5'), array(['clang'], dtype='<U5'), array(['clang'], dtype='<U5'), array(['clang'], dtype='<U5'), array(['clang'], dtype='<U5'), array(['clang'], dtype='<U5'), array(['icc'], dtype='<U5'), array(['clang'], dtype='<U5'), array(['clang'], dtype='<U5'), array(['clang'], dtype='<U5'), array(['clang'], dtype='<U5'), array(['clang'], dtype='<U5'), array(['icc'], dtype='<U5'), array(['clang'], dtype='<U5'), array(['clang'], dtype='<U5'), array(['clang'], dtype='<U5'), array(['clang'], dtype='<U5'), array(['clang'], dtype='<U5'), array(['clang'], dtype='<U5'), array(['clang'], dtype='<U5'), array(['clang'], dtype='<U5'), array(['clang'], dtype='<U5'), array(['gcc'], dtype='<U5'), array(['clang'], dtype='<U5'), array(['clang'], dtype='<U5'), array(['clang'], dtype='<U5'), array(['clang'], dtype='<U5'), array(['clang'], dtype='<U5'), array(['clang'], dtype='<U5'), array(['clang'], dtype='<U5'), array(['clang'], dtype='<U5'), array(['clang'], dtype='<U5'), array(['clang'], dtype='<U5'), array(['clang'], dtype='<U5'), array(['clang'], dtype='<U5'), array(['clang'], dtype='<U5'), array(['clang'], dtype='<U5'), array(['clang'], dtype='<U5'), array(['clang'], dtype='<U5'), array(['clang'], dtype='<U5'), array(['clang'], dtype='<U5'), array(['clang'], dtype='<U5'), array(['clang'], dtype='<U5'), array(['clang'], dtype='<U5'), array(['clang'], dtype='<U5'), array(['clang'], dtype='<U5'), array(['clang'], dtype='<U5'), array(['clang'], dtype='<U5'), array(['gcc'], dtype='<U5'), array(['clang'], dtype='<U5'), array(['clang'], dtype='<U5'), array(['clang'], dtype='<U5'), array(['clang'], dtype='<U5'), array(['gcc'], dtype='<U5'), array(['clang'], dtype='<U5'), array(['clang'], dtype='<U5'), array(['clang'], dtype='<U5'), array(['clang'], dtype='<U5'), array(['clang'], dtype='<U5'), array(['clang'], dtype='<U5'), array(['clang'], dtype='<U5'), array(['clang'], dtype='<U5'), array(['clang'], dtype='<U5'), array(['clang'], dtype='<U5'), array(['clang'], dtype='<U5'), array(['clang'], dtype='<U5'), array(['clang'], dtype='<U5'), array(['clang'], dtype='<U5'), array(['clang'], dtype='<U5'), array(['clang'], dtype='<U5'), array(['clang'], dtype='<U5'), array(['clang'], dtype='<U5'), array(['clang'], dtype='<U5'), array(['clang'], dtype='<U5'), array(['clang'], dtype='<U5'), array(['clang'], dtype='<U5'), array(['clang'], dtype='<U5'), array(['clang'], dtype='<U5'), array(['clang'], dtype='<U5'), array(['clang'], dtype='<U5'), array(['clang'], dtype='<U5'), array(['clang'], dtype='<U5'), array(['clang'], dtype='<U5'), array(['clang'], dtype='<U5'), array(['clang'], dtype='<U5'), array(['clang'], dtype='<U5'), array(['clang'], dtype='<U5'), array(['clang'], dtype='<U5'), array(['clang'], dtype='<U5'), array(['icc'], dtype='<U5'), array(['clang'], dtype='<U5'), array(['gcc'], dtype='<U5'), array(['clang'], dtype='<U5'), array(['clang'], dtype='<U5'), array(['icc'], dtype='<U5'), array(['clang'], dtype='<U5'), array(['clang'], dtype='<U5'), array(['clang'], dtype='<U5'), array(['clang'], dtype='<U5'), array(['clang'], dtype='<U5'), array(['clang'], dtype='<U5'), array(['clang'], dtype='<U5'), array(['clang'], dtype='<U5'), array(['clang'], dtype='<U5'), array(['clang'], dtype='<U5'), array(['clang'], dtype='<U5'), array(['clang'], dtype='<U5'), array(['clang'], dtype='<U5'), array(['clang'], dtype='<U5'), array(['clang'], dtype='<U5'), array(['icc'], dtype='<U5'), array(['clang'], dtype='<U5'), array(['clang'], dtype='<U5'), array(['clang'], dtype='<U5'), array(['clang'], dtype='<U5'), array(['clang'], dtype='<U5'), array(['clang'], dtype='<U5'), array(['clang'], dtype='<U5'), array(['clang'], dtype='<U5'), array(['clang'], dtype='<U5'), array(['clang'], dtype='<U5'), array(['clang'], dtype='<U5'), array(['clang'], dtype='<U5'), array(['clang'], dtype='<U5'), array(['clang'], dtype='<U5'), array(['clang'], dtype='<U5'), array(['clang'], dtype='<U5'), array(['clang'], dtype='<U5'), array(['clang'], dtype='<U5'), array(['clang'], dtype='<U5'), array(['clang'], dtype='<U5'), array(['clang'], dtype='<U5'), array(['clang'], dtype='<U5'), array(['clang'], dtype='<U5'), array(['clang'], dtype='<U5'), array(['clang'], dtype='<U5'), array(['clang'], dtype='<U5'), array(['clang'], dtype='<U5'), array(['clang'], dtype='<U5'), array(['clang'], dtype='<U5'), array(['clang'], dtype='<U5'), array(['clang'], dtype='<U5'), array(['clang'], dtype='<U5'), array(['clang'], dtype='<U5'), array(['clang'], dtype='<U5'), array(['gcc'], dtype='<U5'), array(['clang'], dtype='<U5'), array(['clang'], dtype='<U5'), array(['icc'], dtype='<U5'), array(['clang'], dtype='<U5'), array(['clang'], dtype='<U5'), array(['clang'], dtype='<U5'), array(['clang'], dtype='<U5'), array(['clang'], dtype='<U5'), array(['clang'], dtype='<U5'), array(['gcc'], dtype='<U5'), array(['gcc'], dtype='<U5'), array(['clang'], dtype='<U5'), array(['clang'], dtype='<U5'), array(['clang'], dtype='<U5'), array(['clang'], dtype='<U5'), array(['clang'], dtype='<U5'), array(['clang'], dtype='<U5'), array(['clang'], dtype='<U5'), array(['clang'], dtype='<U5'), array(['clang'], dtype='<U5'), array(['clang'], dtype='<U5'), array(['clang'], dtype='<U5'), array(['clang'], dtype='<U5'), array(['clang'], dtype='<U5'), array(['clang'], dtype='<U5'), array(['clang'], dtype='<U5'), array(['clang'], dtype='<U5'), array(['clang'], dtype='<U5'), array(['clang'], dtype='<U5'), array(['clang'], dtype='<U5'), array(['clang'], dtype='<U5'), array(['gcc'], dtype='<U5'), array(['clang'], dtype='<U5'), array(['clang'], dtype='<U5'), array(['clang'], dtype='<U5'), array(['clang'], dtype='<U5'), array(['clang'], dtype='<U5'), array(['clang'], dtype='<U5'), array(['clang'], dtype='<U5'), array(['clang'], dtype='<U5'), array(['clang'], dtype='<U5'), array(['clang'], dtype='<U5'), array(['clang'], dtype='<U5'), array(['clang'], dtype='<U5'), array(['clang'], dtype='<U5'), array(['clang'], dtype='<U5'), array(['clang'], dtype='<U5'), array(['clang'], dtype='<U5'), array(['clang'], dtype='<U5'), array(['gcc'], dtype='<U5'), array(['clang'], dtype='<U5'), array(['clang'], dtype='<U5'), array(['clang'], dtype='<U5'), array(['clang'], dtype='<U5'), array(['gcc'], dtype='<U5'), array(['clang'], dtype='<U5'), array(['clang'], dtype='<U5'), array(['clang'], dtype='<U5'), array(['clang'], dtype='<U5'), array(['clang'], dtype='<U5'), array(['clang'], dtype='<U5'), array(['icc'], dtype='<U5'), array(['clang'], dtype='<U5'), array(['clang'], dtype='<U5'), array(['clang'], dtype='<U5'), array(['clang'], dtype='<U5'), array(['clang'], dtype='<U5'), array(['clang'], dtype='<U5'), array(['clang'], dtype='<U5'), array(['gcc'], dtype='<U5'), array(['clang'], dtype='<U5'), array(['clang'], dtype='<U5'), array(['clang'], dtype='<U5'), array(['clang'], dtype='<U5'), array(['clang'], dtype='<U5'), array(['clang'], dtype='<U5'), array(['clang'], dtype='<U5'), array(['clang'], dtype='<U5'), array(['clang'], dtype='<U5'), array(['icc'], dtype='<U5'), array(['clang'], dtype='<U5'), array(['clang'], dtype='<U5'), array(['clang'], dtype='<U5'), array(['clang'], dtype='<U5'), array(['clang'], dtype='<U5'), array(['clang'], dtype='<U5'), array(['clang'], dtype='<U5'), array(['clang'], dtype='<U5'), array(['clang'], dtype='<U5'), array(['icc'], dtype='<U5'), array(['clang'], dtype='<U5'), array(['clang'], dtype='<U5'), array(['clang'], dtype='<U5'), array(['clang'], dtype='<U5'), array(['clang'], dtype='<U5'), array(['clang'], dtype='<U5'), array(['clang'], dtype='<U5'), array(['icc'], dtype='<U5'), array(['clang'], dtype='<U5'), array(['clang'], dtype='<U5'), array(['icc'], dtype='<U5'), array(['clang'], dtype='<U5'), array(['clang'], dtype='<U5'), array(['clang'], dtype='<U5'), array(['clang'], dtype='<U5'), array(['clang'], dtype='<U5'), array(['clang'], dtype='<U5'), array(['clang'], dtype='<U5'), array(['clang'], dtype='<U5'), array(['clang'], dtype='<U5'), array(['clang'], dtype='<U5'), array(['clang'], dtype='<U5'), array(['clang'], dtype='<U5'), array(['clang'], dtype='<U5'), array(['clang'], dtype='<U5'), array(['clang'], dtype='<U5'), array(['clang'], dtype='<U5'), array(['clang'], dtype='<U5'), array(['icc'], dtype='<U5'), array(['clang'], dtype='<U5'), array(['clang'], dtype='<U5'), array(['clang'], dtype='<U5'), array(['clang'], dtype='<U5'), array(['clang'], dtype='<U5'), array(['clang'], dtype='<U5'), array(['clang'], dtype='<U5'), array(['clang'], dtype='<U5'), array(['clang'], dtype='<U5'), array(['clang'], dtype='<U5'), array(['clang'], dtype='<U5'), array(['clang'], dtype='<U5'), array(['clang'], dtype='<U5'), array(['clang'], dtype='<U5'), array(['clang'], dtype='<U5'), array(['clang'], dtype='<U5'), array(['clang'], dtype='<U5'), array(['clang'], dtype='<U5'), array(['clang'], dtype='<U5'), array(['clang'], dtype='<U5'), array(['clang'], dtype='<U5'), array(['clang'], dtype='<U5'), array(['clang'], dtype='<U5'), array(['clang'], dtype='<U5'), array(['clang'], dtype='<U5'), array(['clang'], dtype='<U5'), array(['clang'], dtype='<U5'), array(['clang'], dtype='<U5'), array(['clang'], dtype='<U5'), array(['clang'], dtype='<U5'), array(['clang'], dtype='<U5'), array(['clang'], dtype='<U5'), array(['clang'], dtype='<U5'), array(['icc'], dtype='<U5'), array(['icc'], dtype='<U5'), array(['clang'], dtype='<U5'), array(['clang'], dtype='<U5'), array(['clang'], dtype='<U5'), array(['clang'], dtype='<U5'), array(['clang'], dtype='<U5'), array(['clang'], dtype='<U5'), array(['clang'], dtype='<U5'), array(['clang'], dtype='<U5'), array(['gcc'], dtype='<U5'), array(['clang'], dtype='<U5'), array(['clang'], dtype='<U5'), array(['icc'], dtype='<U5'), array(['clang'], dtype='<U5'), array(['clang'], dtype='<U5'), array(['clang'], dtype='<U5'), array(['clang'], dtype='<U5'), array(['clang'], dtype='<U5'), array(['clang'], dtype='<U5'), array(['clang'], dtype='<U5'), array(['clang'], dtype='<U5'), array(['clang'], dtype='<U5'), array(['clang'], dtype='<U5'), array(['clang'], dtype='<U5'), array(['clang'], dtype='<U5'), array(['clang'], dtype='<U5'), array(['clang'], dtype='<U5'), array(['clang'], dtype='<U5'), array(['icc'], dtype='<U5'), array(['clang'], dtype='<U5'), array(['icc'], dtype='<U5'), array(['clang'], dtype='<U5'), array(['clang'], dtype='<U5'), array(['clang'], dtype='<U5'), array(['clang'], dtype='<U5'), array(['clang'], dtype='<U5'), array(['clang'], dtype='<U5'), array(['clang'], dtype='<U5'), array(['gcc'], dtype='<U5'), array(['clang'], dtype='<U5'), array(['clang'], dtype='<U5'), array(['clang'], dtype='<U5'), array(['clang'], dtype='<U5'), array(['clang'], dtype='<U5'), array(['clang'], dtype='<U5'), array(['clang'], dtype='<U5'), array(['clang'], dtype='<U5'), array(['clang'], dtype='<U5'), array(['clang'], dtype='<U5'), array(['clang'], dtype='<U5'), array(['clang'], dtype='<U5'), array(['clang'], dtype='<U5'), array(['clang'], dtype='<U5'), array(['clang'], dtype='<U5'), array(['clang'], dtype='<U5'), array(['clang'], dtype='<U5'), array(['clang'], dtype='<U5'), array(['clang'], dtype='<U5'), array(['clang'], dtype='<U5'), array(['clang'], dtype='<U5'), array(['clang'], dtype='<U5'), array(['gcc'], dtype='<U5'), array(['clang'], dtype='<U5'), array(['clang'], dtype='<U5'), array(['clang'], dtype='<U5'), array(['clang'], dtype='<U5'), array(['clang'], dtype='<U5'), array(['clang'], dtype='<U5'), array(['clang'], dtype='<U5'), array(['clang'], dtype='<U5'), array(['clang'], dtype='<U5'), array(['clang'], dtype='<U5'), array(['clang'], dtype='<U5'), array(['clang'], dtype='<U5'), array(['clang'], dtype='<U5'), array(['clang'], dtype='<U5'), array(['clang'], dtype='<U5'), array(['clang'], dtype='<U5'), array(['gcc'], dtype='<U5'), array(['icc'], dtype='<U5'), array(['clang'], dtype='<U5'), array(['clang'], dtype='<U5'), array(['clang'], dtype='<U5'), array(['clang'], dtype='<U5'), array(['clang'], dtype='<U5'), array(['clang'], dtype='<U5'), array(['clang'], dtype='<U5'), array(['clang'], dtype='<U5'), array(['clang'], dtype='<U5'), array(['clang'], dtype='<U5'), array(['clang'], dtype='<U5'), array(['gcc'], dtype='<U5'), array(['clang'], dtype='<U5'), array(['clang'], dtype='<U5'), array(['clang'], dtype='<U5'), array(['clang'], dtype='<U5'), array(['gcc'], dtype='<U5'), array(['clang'], dtype='<U5'), array(['clang'], dtype='<U5'), array(['clang'], dtype='<U5'), array(['clang'], dtype='<U5'), array(['clang'], dtype='<U5'), array(['clang'], dtype='<U5'), array(['clang'], dtype='<U5'), array(['clang'], dtype='<U5'), array(['clang'], dtype='<U5'), array(['clang'], dtype='<U5'), array(['clang'], dtype='<U5'), array(['clang'], dtype='<U5'), array(['clang'], dtype='<U5'), array(['clang'], dtype='<U5'), array(['clang'], dtype='<U5'), array(['clang'], dtype='<U5'), array(['clang'], dtype='<U5'), array(['clang'], dtype='<U5'), array(['clang'], dtype='<U5'), array(['gcc'], dtype='<U5'), array(['gcc'], dtype='<U5'), array(['clang'], dtype='<U5'), array(['clang'], dtype='<U5'), array(['icc'], dtype='<U5'), array(['clang'], dtype='<U5'), array(['clang'], dtype='<U5'), array(['gcc'], dtype='<U5'), array(['clang'], dtype='<U5'), array(['clang'], dtype='<U5'), array(['clang'], dtype='<U5'), array(['clang'], dtype='<U5'), array(['clang'], dtype='<U5'), array(['clang'], dtype='<U5'), array(['clang'], dtype='<U5'), array(['clang'], dtype='<U5'), array(['clang'], dtype='<U5'), array(['clang'], dtype='<U5'), array(['clang'], dtype='<U5'), array(['clang'], dtype='<U5'), array(['clang'], dtype='<U5'), array(['clang'], dtype='<U5'), array(['clang'], dtype='<U5'), array(['clang'], dtype='<U5'), array(['clang'], dtype='<U5'), array(['clang'], dtype='<U5'), array(['clang'], dtype='<U5'), array(['clang'], dtype='<U5'), array(['clang'], dtype='<U5'), array(['clang'], dtype='<U5'), array(['clang'], dtype='<U5'), array(['clang'], dtype='<U5'), array(['clang'], dtype='<U5'), array(['clang'], dtype='<U5'), array(['clang'], dtype='<U5'), array(['clang'], dtype='<U5'), array(['clang'], dtype='<U5'), array(['clang'], dtype='<U5'), array(['clang'], dtype='<U5'), array(['clang'], dtype='<U5'), array(['clang'], dtype='<U5'), array(['clang'], dtype='<U5'), array(['clang'], dtype='<U5'), array(['clang'], dtype='<U5'), array(['clang'], dtype='<U5'), array(['icc'], dtype='<U5'), array(['clang'], dtype='<U5'), array(['clang'], dtype='<U5'), array(['clang'], dtype='<U5'), array(['clang'], dtype='<U5'), array(['clang'], dtype='<U5'), array(['clang'], dtype='<U5'), array(['gcc'], dtype='<U5'), array(['clang'], dtype='<U5'), array(['clang'], dtype='<U5'), array(['clang'], dtype='<U5'), array(['clang'], dtype='<U5'), array(['clang'], dtype='<U5'), array(['clang'], dtype='<U5'), array(['clang'], dtype='<U5'), array(['clang'], dtype='<U5'), array(['clang'], dtype='<U5'), array(['clang'], dtype='<U5'), array(['clang'], dtype='<U5'), array(['clang'], dtype='<U5'), array(['clang'], dtype='<U5'), array(['clang'], dtype='<U5'), array(['clang'], dtype='<U5'), array(['clang'], dtype='<U5'), array(['clang'], dtype='<U5'), array(['clang'], dtype='<U5'), array(['icc'], dtype='<U5'), array(['clang'], dtype='<U5'), array(['gcc'], dtype='<U5'), array(['clang'], dtype='<U5'), array(['clang'], dtype='<U5'), array(['clang'], dtype='<U5'), array(['clang'], dtype='<U5'), array(['clang'], dtype='<U5'), array(['clang'], dtype='<U5'), array(['clang'], dtype='<U5'), array(['clang'], dtype='<U5'), array(['clang'], dtype='<U5'), array(['clang'], dtype='<U5'), array(['clang'], dtype='<U5'), array(['gcc'], dtype='<U5'), array(['clang'], dtype='<U5'), array(['clang'], dtype='<U5'), array(['clang'], dtype='<U5'), array(['clang'], dtype='<U5'), array(['clang'], dtype='<U5'), array(['clang'], dtype='<U5'), array(['clang'], dtype='<U5'), array(['clang'], dtype='<U5'), array(['clang'], dtype='<U5'), array(['clang'], dtype='<U5'), array(['clang'], dtype='<U5'), array(['clang'], dtype='<U5'), array(['clang'], dtype='<U5'), array(['clang'], dtype='<U5'), array(['clang'], dtype='<U5'), array(['clang'], dtype='<U5'), array(['clang'], dtype='<U5'), array(['clang'], dtype='<U5'), array(['clang'], dtype='<U5'), array(['clang'], dtype='<U5'), array(['clang'], dtype='<U5'), array(['clang'], dtype='<U5'), array(['clang'], dtype='<U5'), array(['clang'], dtype='<U5'), array(['clang'], dtype='<U5'), array(['clang'], dtype='<U5'), array(['clang'], dtype='<U5'), array(['clang'], dtype='<U5'), array(['clang'], dtype='<U5'), array(['clang'], dtype='<U5'), array(['icc'], dtype='<U5'), array(['clang'], dtype='<U5'), array(['clang'], dtype='<U5'), array(['clang'], dtype='<U5'), array(['clang'], dtype='<U5'), array(['clang'], dtype='<U5'), array(['clang'], dtype='<U5'), array(['clang'], dtype='<U5'), array(['clang'], dtype='<U5'), array(['clang'], dtype='<U5'), array(['clang'], dtype='<U5'), array(['clang'], dtype='<U5'), array(['clang'], dtype='<U5'), array(['clang'], dtype='<U5'), array(['clang'], dtype='<U5'), array(['clang'], dtype='<U5'), array(['clang'], dtype='<U5'), array(['icc'], dtype='<U5'), array(['clang'], dtype='<U5'), array(['gcc'], dtype='<U5'), array(['gcc'], dtype='<U5'), array(['clang'], dtype='<U5'), array(['clang'], dtype='<U5'), array(['clang'], dtype='<U5'), array(['clang'], dtype='<U5'), array(['icc'], dtype='<U5'), array(['clang'], dtype='<U5'), array(['clang'], dtype='<U5'), array(['clang'], dtype='<U5'), array(['clang'], dtype='<U5'), array(['clang'], dtype='<U5'), array(['clang'], dtype='<U5'), array(['gcc'], dtype='<U5'), array(['clang'], dtype='<U5'), array(['clang'], dtype='<U5'), array(['clang'], dtype='<U5'), array(['clang'], dtype='<U5'), array(['clang'], dtype='<U5'), array(['clang'], dtype='<U5'), array(['clang'], dtype='<U5'), array(['clang'], dtype='<U5'), array(['icc'], dtype='<U5'), array(['clang'], dtype='<U5'), array(['clang'], dtype='<U5'), array(['clang'], dtype='<U5'), array(['clang'], dtype='<U5'), array(['clang'], dtype='<U5'), array(['clang'], dtype='<U5'), array(['clang'], dtype='<U5'), array(['clang'], dtype='<U5'), array(['clang'], dtype='<U5'), array(['clang'], dtype='<U5'), array(['clang'], dtype='<U5'), array(['gcc'], dtype='<U5'), array(['clang'], dtype='<U5'), array(['icc'], dtype='<U5'), array(['clang'], dtype='<U5'), array(['clang'], dtype='<U5'), array(['clang'], dtype='<U5'), array(['clang'], dtype='<U5'), array(['clang'], dtype='<U5'), array(['clang'], dtype='<U5'), array(['clang'], dtype='<U5'), array(['clang'], dtype='<U5'), array(['clang'], dtype='<U5'), array(['clang'], dtype='<U5'), array(['clang'], dtype='<U5'), array(['clang'], dtype='<U5'), array(['clang'], dtype='<U5'), array(['clang'], dtype='<U5'), array(['clang'], dtype='<U5'), array(['clang'], dtype='<U5'), array(['clang'], dtype='<U5'), array(['clang'], dtype='<U5'), array(['clang'], dtype='<U5'), array(['clang'], dtype='<U5'), array(['clang'], dtype='<U5'), array(['clang'], dtype='<U5'), array(['clang'], dtype='<U5'), array(['clang'], dtype='<U5'), array(['clang'], dtype='<U5'), array(['clang'], dtype='<U5'), array(['clang'], dtype='<U5'), array(['clang'], dtype='<U5'), array(['clang'], dtype='<U5'), array(['clang'], dtype='<U5'), array(['clang'], dtype='<U5'), array(['clang'], dtype='<U5'), array(['clang'], dtype='<U5'), array(['clang'], dtype='<U5'), array(['clang'], dtype='<U5'), array(['clang'], dtype='<U5'), array(['clang'], dtype='<U5'), array(['clang'], dtype='<U5'), array(['clang'], dtype='<U5'), array(['clang'], dtype='<U5'), array(['clang'], dtype='<U5'), array(['clang'], dtype='<U5'), array(['clang'], dtype='<U5'), array(['clang'], dtype='<U5'), array(['clang'], dtype='<U5'), array(['clang'], dtype='<U5'), array(['clang'], dtype='<U5'), array(['clang'], dtype='<U5'), array(['gcc'], dtype='<U5'), array(['clang'], dtype='<U5'), array(['clang'], dtype='<U5'), array(['clang'], dtype='<U5'), array(['clang'], dtype='<U5'), array(['clang'], dtype='<U5'), array(['clang'], dtype='<U5'), array(['clang'], dtype='<U5'), array(['clang'], dtype='<U5'), array(['clang'], dtype='<U5'), array(['clang'], dtype='<U5'), array(['clang'], dtype='<U5'), array(['clang'], dtype='<U5'), array(['clang'], dtype='<U5'), array(['clang'], dtype='<U5'), array(['gcc'], dtype='<U5'), array(['clang'], dtype='<U5'), array(['clang'], dtype='<U5'), array(['clang'], dtype='<U5'), array(['clang'], dtype='<U5'), array(['clang'], dtype='<U5'), array(['gcc'], dtype='<U5'), array(['clang'], dtype='<U5'), array(['clang'], dtype='<U5'), array(['gcc'], dtype='<U5'), array(['clang'], dtype='<U5'), array(['clang'], dtype='<U5'), array(['icc'], dtype='<U5'), array(['clang'], dtype='<U5'), array(['icc'], dtype='<U5'), array(['clang'], dtype='<U5'), array(['clang'], dtype='<U5'), array(['clang'], dtype='<U5'), array(['clang'], dtype='<U5'), array(['clang'], dtype='<U5'), array(['clang'], dtype='<U5'), array(['icc'], dtype='<U5'), array(['icc'], dtype='<U5'), array(['clang'], dtype='<U5'), array(['clang'], dtype='<U5'), array(['clang'], dtype='<U5'), array(['clang'], dtype='<U5'), array(['clang'], dtype='<U5'), array(['clang'], dtype='<U5'), array(['clang'], dtype='<U5'), array(['clang'], dtype='<U5'), array(['clang'], dtype='<U5')]\n",
      "3000\n",
      "990\n",
      "1001\n",
      "1009\n"
     ]
    }
   ],
   "source": [
    "#PREDICTIONS\n",
    "\n",
    "#create a list of predictions\n",
    "\n",
    "predictions = list()\n",
    "X_all_blind = vectorizer.transform(blind_ins)\n",
    "gcc=0\n",
    "icc=0\n",
    "clang=0\n",
    "for i in range (0, len(blind_instructions)):\n",
    "    ynew = model.predict(X_all_blind[i])\n",
    "    predictions.insert(i, ynew)\n",
    "    if predictions[i] == 'gcc':\n",
    "        gcc+=1\n",
    "    elif predictions[i] == 'icc':\n",
    "        icc+=1   \n",
    "    elif predictions[i] == 'clang':\n",
    "        clang+=1   \n",
    "print(predictions)\n",
    "print(len(predictions))\n",
    "print(gcc)\n",
    "print(icc)\n",
    "print(clang)\n",
    "\n",
    "#Write those predictions on a csv file\n",
    "\n",
    "with open('predictions2.csv', 'w') as csvFile:\n",
    "    writer = csv.writer(csvFile)\n",
    "    writer.writerows(predictions)\n",
    "csvFile.close()"
   ]
  }
 ],
 "metadata": {
  "colab": {
   "collapsed_sections": [],
   "name": "Problem2",
   "provenance": []
  },
  "kernelspec": {
   "display_name": "Python 3 (ipykernel)",
   "language": "python",
   "name": "python3"
  },
  "language_info": {
   "codemirror_mode": {
    "name": "ipython",
    "version": 3
   },
   "file_extension": ".py",
   "mimetype": "text/x-python",
   "name": "python",
   "nbconvert_exporter": "python",
   "pygments_lexer": "ipython3",
   "version": "3.9.7"
  }
 },
 "nbformat": 4,
 "nbformat_minor": 4
}
